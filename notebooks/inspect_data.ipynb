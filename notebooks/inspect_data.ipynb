{
 "cells": [
  {
   "cell_type": "code",
   "execution_count": 48,
   "id": "aa48f853-4818-48b2-ba47-b072913ed590",
   "metadata": {},
   "outputs": [],
   "source": [
    "import numpy as np\n",
    "from collections import Counter"
   ]
  },
  {
   "cell_type": "code",
   "execution_count": 119,
   "id": "06808e27-4ab0-4e47-a88f-f984183dd4b1",
   "metadata": {},
   "outputs": [],
   "source": [
    "data_zip = np.load(\"../training_data/gen0.npz\", allow_pickle=True)"
   ]
  },
  {
   "cell_type": "code",
   "execution_count": 120,
   "id": "9b6159dc-d130-4f1f-9538-7b3b77a30887",
   "metadata": {},
   "outputs": [
    {
     "data": {
      "text/plain": [
       "['hand_idx',\n",
       " 'disc_idx',\n",
       " 'called_idx',\n",
       " 'game_state',\n",
       " 'called_discards',\n",
       " 'action_idx',\n",
       " 'tile_idx',\n",
       " 'returns',\n",
       " 'advantages',\n",
       " 'action_log_probs',\n",
       " 'tile_log_probs',\n",
       " 'game_ids',\n",
       " 'step_ids',\n",
       " 'actor_ids',\n",
       " 'game_outcomes_obj']"
      ]
     },
     "execution_count": 120,
     "metadata": {},
     "output_type": "execute_result"
    }
   ],
   "source": [
    "list(data_zip.keys())"
   ]
  },
  {
   "cell_type": "code",
   "execution_count": 121,
   "id": "f03b1205-8361-4042-b31f-befd0dd61887",
   "metadata": {},
   "outputs": [
    {
     "data": {
      "text/plain": [
       "np.float32(1.54)"
      ]
     },
     "execution_count": 121,
     "metadata": {},
     "output_type": "execute_result"
    }
   ],
   "source": [
    "np.max(data_zip[\"returns\"])"
   ]
  },
  {
   "cell_type": "code",
   "execution_count": 122,
   "id": "8bcecd44-ff67-45db-b8a6-b9aee5fe5d37",
   "metadata": {},
   "outputs": [
    {
     "data": {
      "text/plain": [
       "np.int64(46515)"
      ]
     },
     "execution_count": 122,
     "metadata": {},
     "output_type": "execute_result"
    }
   ],
   "source": [
    "np.sum(data_zip[\"returns\"] > 0.1)"
   ]
  },
  {
   "cell_type": "code",
   "execution_count": 123,
   "id": "4d4f5ed6-2256-4cd3-9e4f-566affcf3abb",
   "metadata": {},
   "outputs": [
    {
     "data": {
      "text/plain": [
       "Counter({np.int64(0): 323410,\n",
       "         np.int64(4): 81085,\n",
       "         np.int64(14): 5065,\n",
       "         np.int64(10): 4035,\n",
       "         np.int64(1): 3555,\n",
       "         np.int64(8): 3340,\n",
       "         np.int64(9): 1800,\n",
       "         np.int64(3): 1235,\n",
       "         np.int64(2): 565,\n",
       "         np.int64(5): 470,\n",
       "         np.int64(11): 310,\n",
       "         np.int64(15): 275,\n",
       "         np.int64(13): 270,\n",
       "         np.int64(12): 125})"
      ]
     },
     "execution_count": 123,
     "metadata": {},
     "output_type": "execute_result"
    }
   ],
   "source": [
    "Counter(data_zip[\"action_idx\"])"
   ]
  },
  {
   "cell_type": "code",
   "execution_count": 41,
   "id": "683c936f-7e72-4b56-9b71-456851f85f63",
   "metadata": {},
   "outputs": [],
   "source": [
    "data_zip.close()"
   ]
  },
  {
   "cell_type": "code",
   "execution_count": 15,
   "id": "6708929f-4dd9-43e9-9d82-09767a990be7",
   "metadata": {},
   "outputs": [
    {
     "data": {
      "text/plain": [
       "array([0., 0., 0., ..., 0., 0., 0.], shape=(7808,), dtype=float32)"
      ]
     },
     "execution_count": 15,
     "metadata": {},
     "output_type": "execute_result"
    }
   ],
   "source": [
    "data_zip[\"returns\"]"
   ]
  },
  {
   "cell_type": "code",
   "execution_count": null,
   "id": "9a1d9c88-fb3f-443c-a9c9-01be9a9a99b8",
   "metadata": {},
   "outputs": [],
   "source": []
  }
 ],
 "metadata": {
  "kernelspec": {
   "display_name": "Python 3 (ipykernel)",
   "language": "python",
   "name": "python3"
  },
  "language_info": {
   "codemirror_mode": {
    "name": "ipython",
    "version": 3
   },
   "file_extension": ".py",
   "mimetype": "text/x-python",
   "name": "python",
   "nbconvert_exporter": "python",
   "pygments_lexer": "ipython3",
   "version": "3.12.10"
  }
 },
 "nbformat": 4,
 "nbformat_minor": 5
}
