{
 "cells": [
  {
   "cell_type": "code",
   "execution_count": 111,
   "id": "aa48f853-4818-48b2-ba47-b072913ed590",
   "metadata": {},
   "outputs": [],
   "source": [
    "import numpy as np\n",
    "from collections import Counter"
   ]
  },
  {
   "cell_type": "code",
   "execution_count": 112,
   "id": "91b558c1-197d-4dc3-b59b-a6644c2a264c",
   "metadata": {},
   "outputs": [],
   "source": [
    "ACTION_HEAD_ORDER: list[str] = [\n",
    "    'discard',       # uses tile head\n",
    "    'riichi',        # uses tile head\n",
    "    'tsumo',\n",
    "    'ron',\n",
    "    'pass',\n",
    "    'kan',           # uses tile head (kakan/ankan pass tile; daiminkan uses no-op)\n",
    "    'chi_low_noaka',\n",
    "    'chi_mid_noaka',\n",
    "    'chi_high_noaka',\n",
    "    'chi_low_aka',\n",
    "    'chi_mid_aka',\n",
    "    'chi_high_aka',\n",
    "    'pon_noaka',\n",
    "    'pon_aka',\n",
    "]\n",
    "ACTION_HEAD_INDEX = {name: i for i, name in enumerate(ACTION_HEAD_ORDER)}"
   ]
  },
  {
   "cell_type": "code",
   "execution_count": 113,
   "id": "9b6159dc-d130-4f1f-9538-7b3b77a30887",
   "metadata": {},
   "outputs": [],
   "source": [
    "def perf_metrics(data_file):\n",
    "    data_zip = np.load(data_file, allow_pickle=True)\n",
    "    print(\"Mean Return:\", np.mean(np.abs(data_zip[\"returns\"])))\n",
    "    print(\"Return fraction:\", np.sum(data_zip[\"returns\"] > 0.05) / len(data_zip[\"returns\"]))\n",
    "    action_counter = Counter(data_zip[\"action_idx\"])\n",
    "    print(\"\\n\")\n",
    "    for idx, ct in sorted(list(action_counter.items()), key=lambda x: -x[1]):\n",
    "        print(ACTION_HEAD_ORDER[idx], f\"{ct/len(data_zip[\"action_idx\"]) * 100}%\")\n",
    "    old_values = data_zip['returns'] - data_zip['advantages']\n",
    "    print(\"Value-Return Correlation\", np.corrcoef(old_values, data_zip[\"returns\"])[0,1])\n",
    "    data_zip.close()"
   ]
  },
  {
   "cell_type": "code",
   "execution_count": 123,
   "id": "1229c3f6-54c7-4a0c-a319-a22ce282f743",
   "metadata": {},
   "outputs": [],
   "source": [
    "new_zip = np.load(\"../training_data/ac_parallel_20250827_124424.npz\")"
   ]
  },
  {
   "cell_type": "code",
   "execution_count": 124,
   "id": "d9e8f0a0-b2ae-4a3a-b96b-9192a0a960a8",
   "metadata": {},
   "outputs": [
    {
     "data": {
      "text/plain": [
       "['action_idx',\n",
       " 'tile_idx',\n",
       " 'returns',\n",
       " 'advantages',\n",
       " 'joint_log_probs',\n",
       " 'game_ids',\n",
       " 'step_ids',\n",
       " 'actor_ids',\n",
       " 'hand_idx',\n",
       " 'disc_idx',\n",
       " 'called_idx',\n",
       " 'seat_winds',\n",
       " 'riichi_declarations',\n",
       " 'dora_indicator_tiles',\n",
       " 'legal_action_mask',\n",
       " 'called_discards',\n",
       " 'round_wind',\n",
       " 'remaining_tiles',\n",
       " 'owner_of_reactable_tile',\n",
       " 'reactable_tile',\n",
       " 'newly_drawn_tile',\n",
       " 'game_outcomes_obj']"
      ]
     },
     "execution_count": 124,
     "metadata": {},
     "output_type": "execute_result"
    }
   ],
   "source": [
    "list(new_zip.keys())"
   ]
  },
  {
   "cell_type": "code",
   "execution_count": 125,
   "id": "d8fa11a8-6e80-4609-8e6b-364ea061224e",
   "metadata": {},
   "outputs": [
    {
     "name": "stdout",
     "output_type": "stream",
     "text": [
      "407589\n",
      "407589\n",
      "407589\n",
      "407589\n",
      "407589\n",
      "407589\n",
      "407589\n",
      "407589\n",
      "18254\n",
      "18254\n",
      "18254\n",
      "18254\n",
      "18254\n",
      "18254\n",
      "18254\n",
      "18254\n",
      "18254\n",
      "18254\n",
      "18254\n",
      "18254\n",
      "18254\n"
     ]
    },
    {
     "ename": "ValueError",
     "evalue": "Object arrays cannot be loaded when allow_pickle=False",
     "output_type": "error",
     "traceback": [
      "\u001b[31m---------------------------------------------------------------------------\u001b[39m",
      "\u001b[31mValueError\u001b[39m                                Traceback (most recent call last)",
      "\u001b[36mCell\u001b[39m\u001b[36m \u001b[39m\u001b[32mIn[125]\u001b[39m\u001b[32m, line 2\u001b[39m\n\u001b[32m      1\u001b[39m \u001b[38;5;28;01mfor\u001b[39;00m key \u001b[38;5;129;01min\u001b[39;00m new_zip:\n\u001b[32m----> \u001b[39m\u001b[32m2\u001b[39m     \u001b[38;5;28mprint\u001b[39m(\u001b[38;5;28mlen\u001b[39m(\u001b[43mnew_zip\u001b[49m\u001b[43m[\u001b[49m\u001b[43mkey\u001b[49m\u001b[43m]\u001b[49m))\n",
      "\u001b[36mFile \u001b[39m\u001b[32m~/Documents/mahjong-ai-medium/.venv312/lib/python3.12/site-packages/numpy/lib/_npyio_impl.py:257\u001b[39m, in \u001b[36mNpzFile.__getitem__\u001b[39m\u001b[34m(self, key)\u001b[39m\n\u001b[32m    247\u001b[39m \u001b[38;5;28mbytes\u001b[39m.seek(\u001b[32m0\u001b[39m)\n\u001b[32m    248\u001b[39m \u001b[38;5;28;01mif\u001b[39;00m magic == \u001b[38;5;28mformat\u001b[39m.MAGIC_PREFIX:\n\u001b[32m    249\u001b[39m     \u001b[38;5;66;03m# FIXME: This seems like it will copy strings around\u001b[39;00m\n\u001b[32m    250\u001b[39m     \u001b[38;5;66;03m#   more than is strictly necessary.  The zipfile\u001b[39;00m\n\u001b[32m   (...)\u001b[39m\u001b[32m    255\u001b[39m     \u001b[38;5;66;03m#   (or at least uncompress) the data\u001b[39;00m\n\u001b[32m    256\u001b[39m     \u001b[38;5;66;03m#   directly into the array memory.\u001b[39;00m\n\u001b[32m--> \u001b[39m\u001b[32m257\u001b[39m     \u001b[38;5;28;01mreturn\u001b[39;00m \u001b[38;5;28;43mformat\u001b[39;49m\u001b[43m.\u001b[49m\u001b[43mread_array\u001b[49m\u001b[43m(\u001b[49m\n\u001b[32m    258\u001b[39m \u001b[43m        \u001b[49m\u001b[38;5;28;43mbytes\u001b[39;49m\u001b[43m,\u001b[49m\n\u001b[32m    259\u001b[39m \u001b[43m        \u001b[49m\u001b[43mallow_pickle\u001b[49m\u001b[43m=\u001b[49m\u001b[38;5;28;43mself\u001b[39;49m\u001b[43m.\u001b[49m\u001b[43mallow_pickle\u001b[49m\u001b[43m,\u001b[49m\n\u001b[32m    260\u001b[39m \u001b[43m        \u001b[49m\u001b[43mpickle_kwargs\u001b[49m\u001b[43m=\u001b[49m\u001b[38;5;28;43mself\u001b[39;49m\u001b[43m.\u001b[49m\u001b[43mpickle_kwargs\u001b[49m\u001b[43m,\u001b[49m\n\u001b[32m    261\u001b[39m \u001b[43m        \u001b[49m\u001b[43mmax_header_size\u001b[49m\u001b[43m=\u001b[49m\u001b[38;5;28;43mself\u001b[39;49m\u001b[43m.\u001b[49m\u001b[43mmax_header_size\u001b[49m\n\u001b[32m    262\u001b[39m \u001b[43m    \u001b[49m\u001b[43m)\u001b[49m\n\u001b[32m    263\u001b[39m \u001b[38;5;28;01melse\u001b[39;00m:\n\u001b[32m    264\u001b[39m     \u001b[38;5;28;01mreturn\u001b[39;00m \u001b[38;5;28mbytes\u001b[39m.read()\n",
      "\u001b[36mFile \u001b[39m\u001b[32m~/Documents/mahjong-ai-medium/.venv312/lib/python3.12/site-packages/numpy/lib/_format_impl.py:833\u001b[39m, in \u001b[36mread_array\u001b[39m\u001b[34m(fp, allow_pickle, pickle_kwargs, max_header_size)\u001b[39m\n\u001b[32m    830\u001b[39m \u001b[38;5;28;01mif\u001b[39;00m dtype.hasobject:\n\u001b[32m    831\u001b[39m     \u001b[38;5;66;03m# The array contained Python objects. We need to unpickle the data.\u001b[39;00m\n\u001b[32m    832\u001b[39m     \u001b[38;5;28;01mif\u001b[39;00m \u001b[38;5;129;01mnot\u001b[39;00m allow_pickle:\n\u001b[32m--> \u001b[39m\u001b[32m833\u001b[39m         \u001b[38;5;28;01mraise\u001b[39;00m \u001b[38;5;167;01mValueError\u001b[39;00m(\u001b[33m\"\u001b[39m\u001b[33mObject arrays cannot be loaded when \u001b[39m\u001b[33m\"\u001b[39m\n\u001b[32m    834\u001b[39m                          \u001b[33m\"\u001b[39m\u001b[33mallow_pickle=False\u001b[39m\u001b[33m\"\u001b[39m)\n\u001b[32m    835\u001b[39m     \u001b[38;5;28;01mif\u001b[39;00m pickle_kwargs \u001b[38;5;129;01mis\u001b[39;00m \u001b[38;5;28;01mNone\u001b[39;00m:\n\u001b[32m    836\u001b[39m         pickle_kwargs = {}\n",
      "\u001b[31mValueError\u001b[39m: Object arrays cannot be loaded when allow_pickle=False"
     ]
    }
   ],
   "source": [
    "for key in new_zip:\n",
    "    print(len(new_zip[key]))"
   ]
  },
  {
   "cell_type": "code",
   "execution_count": 77,
   "id": "f021deab-0e0b-4921-921e-f708589840ce",
   "metadata": {},
   "outputs": [
    {
     "name": "stdout",
     "output_type": "stream",
     "text": [
      "Mean Return: 0.18755879\n",
      "Return fraction: 0.15507616187314802\n",
      "\n",
      "\n",
      "discard 73.34522617730373%\n",
      "pass 24.41595849046189%\n",
      "riichi 1.489616342875208%\n",
      "ron 0.3698323209361726%\n",
      "tsumo 0.24939845794474594%\n",
      "pon_noaka 0.09258353217465921%\n",
      "chi_high_noaka 0.029104850222928098%\n",
      "chi_low_aka 0.0027599426935535267%\n",
      "chi_low_noaka 0.0027599426935535267%\n",
      "pon_aka 0.001254519406160694%\n",
      "chi_mid_aka 0.0005018077624642775%\n",
      "chi_mid_noaka 0.0005018077624642775%\n",
      "kan 0.00025090388123213877%\n",
      "chi_high_aka 0.00025090388123213877%\n",
      "Value-Return Correlation 0.27894515399447906\n"
     ]
    }
   ],
   "source": [
    "perf_metrics(\"../training_data/ac_parallel_20250825_192500.npz\")"
   ]
  },
  {
   "cell_type": "code",
   "execution_count": 59,
   "id": "37507ec6-e7da-47d1-8b65-e6b1a2a9a91e",
   "metadata": {},
   "outputs": [
    {
     "name": "stdout",
     "output_type": "stream",
     "text": [
      "Mean Return: 0.18243663\n",
      "Return fraction: 0.15115449118533753\n",
      "\n",
      "\n",
      "discard 73.22009703116578%\n",
      "pass 24.690039331563078%\n",
      "riichi 1.4866632060215226%\n",
      "tsumo 0.24407530896240542%\n",
      "ron 0.355381635953441%\n",
      "chi_high_aka 0.0029947890670233793%\n",
      "pon_noaka 0.0007486972667558448%\n",
      "Value-Return Correlation 0.2528755998284951\n"
     ]
    }
   ],
   "source": [
    "perf_metrics(\"../training_data/ac_parallel_20250825_154932.npz\")"
   ]
  },
  {
   "cell_type": "code",
   "execution_count": 60,
   "id": "f03b1205-8361-4042-b31f-befd0dd61887",
   "metadata": {},
   "outputs": [
    {
     "name": "stdout",
     "output_type": "stream",
     "text": [
      "Mean Return: 0.16047949\n",
      "Return fraction: 0.1500838595106551\n",
      "\n",
      "\n",
      "discard 74.52890686661405%\n",
      "pass 20.92911404893449%\n",
      "chi_low_noaka 0.5882498026835044%\n",
      "pon_noaka 0.9458859510655091%\n",
      "chi_high_noaka 0.6499112075769534%\n",
      "kan 0.12455603788476717%\n",
      "ron 0.3810674822415154%\n",
      "riichi 1.1900651144435674%\n",
      "tsumo 0.2244475138121547%\n",
      "chi_mid_noaka 0.26144435674822414%\n",
      "chi_high_aka 0.05056235201262825%\n",
      "pon_aka 0.06412786108918705%\n",
      "chi_low_aka 0.044396211523283345%\n",
      "chi_mid_aka 0.017265193370165743%\n",
      "Value-Return Correlation nan\n"
     ]
    }
   ],
   "source": [
    "perf_metrics(\"../training_data/gen0.npz\")"
   ]
  },
  {
   "cell_type": "code",
   "execution_count": 61,
   "id": "dbef20ea-20e7-47ca-b1fd-e70eaf62645e",
   "metadata": {},
   "outputs": [
    {
     "name": "stdout",
     "output_type": "stream",
     "text": [
      "Mean Return: 0.18317343\n",
      "Return fraction: 0.15287744988682708\n",
      "\n",
      "\n",
      "discard 73.51753491065229%\n",
      "pass 24.424798281475983%\n",
      "riichi 1.4636029347256652%\n",
      "tsumo 0.23737488939633583%\n",
      "ron 0.35568634430137336%\n",
      "chi_mid_noaka 0.0005013197241738877%\n",
      "pon_noaka 0.00025065986208694385%\n",
      "chi_low_aka 0.00025065986208694385%\n",
      "Value-Return Correlation 0.2685874739959118\n"
     ]
    }
   ],
   "source": [
    "perf_metrics(\"../training_data/ac_parallel_20250825_213051.npz\")"
   ]
  },
  {
   "cell_type": "code",
   "execution_count": 38,
   "id": "8bcecd44-ff67-45db-b8a6-b9aee5fe5d37",
   "metadata": {},
   "outputs": [
    {
     "name": "stdout",
     "output_type": "stream",
     "text": [
      "Mean Return: 0.18238935\n",
      "Return fraction: 0.15058725249370977\n",
      "\n",
      "\n",
      "discard 73.69223195727626%\n",
      "pass 24.30484421151035%\n",
      "riichi 1.4196493391544758%\n",
      "tsumo 0.2426581007031118%\n",
      "ron 0.33514663908585524%\n",
      "chi_high_noaka 0.00024862510317941785%\n",
      "chi_low_noaka 0.00348075144451185%\n",
      "chi_mid_noaka 0.0009945004127176714%\n",
      "chi_low_aka 0.0004972502063588357%\n",
      "pon_noaka 0.00024862510317941785%\n",
      "Value-Return Correlation 0.2413707031637274\n"
     ]
    }
   ],
   "source": [
    "perf_metrics(\"../training_data/ac_parallel_20250825_222614.npz\")"
   ]
  },
  {
   "cell_type": "code",
   "execution_count": 39,
   "id": "2a322a30-28a8-4af0-b7f7-e2e552f6f6ee",
   "metadata": {},
   "outputs": [
    {
     "name": "stdout",
     "output_type": "stream",
     "text": [
      "Mean Return: 0.19302396\n",
      "Return fraction: 0.15523899984211198\n",
      "\n",
      "\n",
      "discard 73.24098973226705%\n",
      "pass 24.502464807263852%\n",
      "riichi 1.5510617342118256%\n",
      "ron 0.35838072062092596%\n",
      "tsumo 0.26540222597032204%\n",
      "chi_mid_noaka 0.05413303192595804%\n",
      "chi_low_noaka 0.016540648644042734%\n",
      "kan 0.0007518476656383061%\n",
      "pon_noaka 0.007267860767836959%\n",
      "chi_high_noaka 0.0002506158885461021%\n",
      "chi_high_aka 0.0025061588854610206%\n",
      "chi_low_aka 0.0002506158885461021%\n",
      "Value-Return Correlation 0.3168012688201298\n"
     ]
    }
   ],
   "source": [
    "perf_metrics(\"../training_data/ac_parallel_20250825_225310.npz\")"
   ]
  },
  {
   "cell_type": "code",
   "execution_count": 40,
   "id": "4d4f5ed6-2256-4cd3-9e4f-566affcf3abb",
   "metadata": {},
   "outputs": [
    {
     "name": "stdout",
     "output_type": "stream",
     "text": [
      "Mean Return: 0.17711326\n",
      "Return fraction: 0.14411690602166793\n",
      "\n",
      "\n",
      "discard 73.35600907029477%\n",
      "pass 24.422608549592674%\n",
      "riichi 1.3815402704291593%\n",
      "ron 0.3401360544217687%\n",
      "tsumo 0.27294868564709834%\n",
      "chi_high_noaka 0.11337868480725624%\n",
      "chi_high_aka 0.012597631645250695%\n",
      "pon_noaka 0.058788947677836566%\n",
      "chi_mid_noaka 0.02519526329050139%\n",
      "chi_low_noaka 0.016796842193667588%\n",
      "Value-Return Correlation 0.25108260852585823\n"
     ]
    }
   ],
   "source": [
    "perf_metrics(\"../training_data/ac_parallel_20250825_230502.npz\")"
   ]
  },
  {
   "cell_type": "code",
   "execution_count": 41,
   "id": "683c936f-7e72-4b56-9b71-456851f85f63",
   "metadata": {},
   "outputs": [
    {
     "name": "stdout",
     "output_type": "stream",
     "text": [
      "Mean Return: 0.18434078\n",
      "Return fraction: 0.15460283304659106\n",
      "\n",
      "\n",
      "discard 73.36544516116237%\n",
      "pass 24.383338869855372%\n",
      "riichi 1.4185065273115807%\n",
      "tsumo 0.23873152495649286%\n",
      "chi_high_noaka 0.15593159833606854%\n",
      "ron 0.35078412026317485%\n",
      "chi_mid_noaka 0.013386814483541655%\n",
      "pon_noaka 0.05924904928826769%\n",
      "chi_high_aka 0.00644550326985339%\n",
      "pon_aka 0.000495807943834876%\n",
      "chi_mid_aka 0.0007437119157523142%\n",
      "chi_low_noaka 0.0052059834102661995%\n",
      "chi_low_aka 0.000991615887669752%\n",
      "kan 0.0007437119157523142%\n",
      "Value-Return Correlation 0.3317057318717842\n"
     ]
    }
   ],
   "source": [
    "perf_metrics(\"../training_data/ac_parallel_20250825_231401.npz\")"
   ]
  },
  {
   "cell_type": "code",
   "execution_count": 42,
   "id": "6708929f-4dd9-43e9-9d82-09767a990be7",
   "metadata": {},
   "outputs": [
    {
     "name": "stdout",
     "output_type": "stream",
     "text": [
      "Mean Return: 0.18148695\n",
      "Return fraction: 0.1511219442253925\n",
      "\n",
      "\n",
      "discard 73.61579085717017%\n",
      "pass 24.40318302387268%\n",
      "riichi 1.3501565225703156%\n",
      "tsumo 0.20312089277606518%\n",
      "ron 0.30587616794513345%\n",
      "chi_low_noaka 0.0693000693000693%\n",
      "chi_mid_noaka 0.01911726049657084%\n",
      "chi_high_noaka 0.01911726049657084%\n",
      "pon_noaka 0.007168972686214065%\n",
      "pon_aka 0.00477931512414271%\n",
      "chi_low_aka 0.002389657562071355%\n",
      "Value-Return Correlation 0.37571817600339896\n"
     ]
    }
   ],
   "source": [
    "perf_metrics(\"../training_data/ac_parallel_20250825_232819.npz\")"
   ]
  },
  {
   "cell_type": "code",
   "execution_count": 43,
   "id": "4b5e728a-8ffc-4349-895b-d71c390d7992",
   "metadata": {},
   "outputs": [
    {
     "name": "stdout",
     "output_type": "stream",
     "text": [
      "Mean Return: 0.1873601\n",
      "Return fraction: 0.15359569330799788\n",
      "\n",
      "\n",
      "discard 73.39104553637642%\n",
      "pass 24.44986554072106%\n",
      "riichi 1.4597009186178036%\n",
      "tsumo 0.24295056343057184%\n",
      "ron 0.36305253774722657%\n",
      "chi_low_noaka 0.060924910048365394%\n",
      "chi_high_noaka 0.020974149360912676%\n",
      "pon_noaka 0.00474415283163501%\n",
      "chi_high_aka 0.001498153525779477%\n",
      "chi_mid_noaka 0.003745383814448692%\n",
      "pon_aka 0.0012484612714828973%\n",
      "chi_low_aka 0.00024969225429657943%\n",
      "Value-Return Correlation 0.31402874293074096\n"
     ]
    }
   ],
   "source": [
    "perf_metrics(\"../training_data/ac_parallel_20250825_234451.npz\")"
   ]
  },
  {
   "cell_type": "code",
   "execution_count": 44,
   "id": "4af3af1b-1e9a-462c-90c6-ae2a8bec3dbb",
   "metadata": {},
   "outputs": [
    {
     "name": "stdout",
     "output_type": "stream",
     "text": [
      "Mean Return: 0.19038653\n",
      "Return fraction: 0.15501103454825835\n",
      "\n",
      "\n",
      "discard 73.24565678680953%\n",
      "pass 24.604918184385678%\n",
      "riichi 1.496349726448175%\n",
      "ron 0.36040359203912953%\n",
      "tsumo 0.25143274174158414%\n",
      "chi_high_noaka 0.007747927429412632%\n",
      "chi_mid_aka 0.004248863429032734%\n",
      "chi_mid_noaka 0.018245119430552327%\n",
      "pon_aka 0.0019994651430742276%\n",
      "pon_noaka 0.0007497994286528353%\n",
      "chi_low_noaka 0.005998395429222683%\n",
      "chi_high_aka 0.002249398285958506%\n",
      "Value-Return Correlation 0.3104719524236516\n"
     ]
    }
   ],
   "source": [
    "perf_metrics(\"../training_data/ac_parallel_20250825_235718.npz\")"
   ]
  },
  {
   "cell_type": "code",
   "execution_count": 45,
   "id": "fdb094e7-5130-4ddc-8d29-a287bb04aaeb",
   "metadata": {},
   "outputs": [
    {
     "name": "stdout",
     "output_type": "stream",
     "text": [
      "Mean Return: 0.19924365\n",
      "Return fraction: 0.1566437980447704\n",
      "\n",
      "\n",
      "discard 73.10870485450998%\n",
      "pass 24.596918622271986%\n",
      "riichi 1.5820176987603856%\n",
      "ron 0.3714585571978549%\n",
      "tsumo 0.2597454644734832%\n",
      "pon_noaka 0.07013378018570422%\n",
      "chi_mid_noaka 0.004508600154795272%\n",
      "chi_high_aka 0.001753344504642606%\n",
      "chi_high_noaka 0.0012523889318875755%\n",
      "chi_low_noaka 0.001753344504642606%\n",
      "pon_aka 0.0005009555727550302%\n",
      "chi_mid_aka 0.0007514333591325453%\n",
      "chi_low_aka 0.0005009555727550302%\n",
      "Value-Return Correlation 0.31584313947134474\n"
     ]
    }
   ],
   "source": [
    "perf_metrics(\"../training_data/ac_parallel_20250826_001032.npz\")"
   ]
  },
  {
   "cell_type": "code",
   "execution_count": 46,
   "id": "1f5a98d5-89fd-4370-86aa-6adbc25070b0",
   "metadata": {},
   "outputs": [
    {
     "name": "stdout",
     "output_type": "stream",
     "text": [
      "Mean Return: 0.19944732\n",
      "Return fraction: 0.15807417784506156\n",
      "\n",
      "\n",
      "discard 73.22934476153176%\n",
      "pass 24.379570840017774%\n",
      "riichi 1.484761983666112%\n",
      "ron 0.3956687328809253%\n",
      "chi_high_noaka 0.22218707398452975%\n",
      "chi_mid_noaka 0.024101648703406617%\n",
      "chi_mid_aka 0.004016941450567769%\n",
      "tsumo 0.23474001601755404%\n",
      "chi_low_aka 0.0032637649285863126%\n",
      "pon_noaka 0.016318824642931565%\n",
      "pon_aka 0.002510588406604856%\n",
      "chi_low_noaka 0.0010042353626419423%\n",
      "chi_high_aka 0.002510588406604856%\n",
      "Value-Return Correlation 0.3071267691513172\n"
     ]
    }
   ],
   "source": [
    "perf_metrics(\"../training_data/ac_parallel_20250826_002501.npz\")"
   ]
  },
  {
   "cell_type": "code",
   "execution_count": 47,
   "id": "231b8414-f6b3-47ef-8c19-92e0c9d05ac7",
   "metadata": {},
   "outputs": [
    {
     "name": "stdout",
     "output_type": "stream",
     "text": [
      "Mean Return: 0.19397444\n",
      "Return fraction: 0.15668588828718555\n",
      "\n",
      "\n",
      "discard 73.05051883325851%\n",
      "pass 24.760022373665294%\n",
      "riichi 1.4886513846840723%\n",
      "tsumo 0.2608588778553387%\n",
      "ron 0.3644499514651992%\n",
      "pon_aka 0.004514865193650092%\n",
      "pon_noaka 0.010785511295941888%\n",
      "chi_high_noaka 0.03636974739329241%\n",
      "chi_low_aka 0.003009910129100062%\n",
      "chi_high_aka 0.0032607359731917336%\n",
      "chi_mid_aka 0.008277252855025171%\n",
      "chi_mid_noaka 0.008778904543208515%\n",
      "chi_low_noaka 0.0005016516881833436%\n",
      "Value-Return Correlation 0.31558098373914634\n"
     ]
    }
   ],
   "source": [
    "perf_metrics(\"../training_data/ac_parallel_20250826_004449.npz\")"
   ]
  },
  {
   "cell_type": "code",
   "execution_count": 48,
   "id": "e5500385-1228-43b2-9f1c-9385c6aecb57",
   "metadata": {},
   "outputs": [
    {
     "name": "stdout",
     "output_type": "stream",
     "text": [
      "Mean Return: 0.19227518\n",
      "Return fraction: 0.1574944149160132\n",
      "\n",
      "\n",
      "discard 73.0268926128286%\n",
      "pass 24.823778835627635%\n",
      "riichi 1.4511311343045519%\n",
      "chi_low_noaka 0.02352917865829193%\n",
      "ron 0.35789119117086143%\n",
      "chi_mid_noaka 0.03863738811256359%\n",
      "tsumo 0.23752086666633646%\n",
      "chi_high_noaka 0.02600593430653319%\n",
      "pon_noaka 0.005944213555779014%\n",
      "chi_mid_aka 0.002972106777889507%\n",
      "chi_high_aka 0.001981404518593005%\n",
      "pon_aka 0.0014860533889447536%\n",
      "chi_low_aka 0.00222908008341713%\n",
      "Value-Return Correlation 0.32240225793851623\n"
     ]
    }
   ],
   "source": [
    "perf_metrics(\"../training_data/ac_parallel_20250826_010200.npz\")"
   ]
  },
  {
   "cell_type": "code",
   "execution_count": 49,
   "id": "440a2c86-09d1-4e7f-b886-e1e9848c4df5",
   "metadata": {},
   "outputs": [
    {
     "name": "stdout",
     "output_type": "stream",
     "text": [
      "Mean Return: 0.18467629\n",
      "Return fraction: 0.15137108100064686\n",
      "\n",
      "\n",
      "discard 73.05750202298704%\n",
      "pass 24.923446235276465%\n",
      "riichi 1.373417581417542%\n",
      "tsumo 0.22554153333808846%\n",
      "ron 0.3487654245075349%\n",
      "chi_mid_noaka 0.03222021904829835%\n",
      "chi_high_noaka 0.0066408085061378285%\n",
      "chi_high_aka 0.01205183765928717%\n",
      "chi_mid_aka 0.00565698502374704%\n",
      "chi_low_aka 0.005902940894344737%\n",
      "chi_low_noaka 0.00565698502374704%\n",
      "pon_noaka 0.001967646964781579%\n",
      "pon_aka 0.0012297793529884868%\n",
      "Value-Return Correlation 0.30998684550469696\n"
     ]
    }
   ],
   "source": [
    "perf_metrics(\"../training_data/ac_parallel_20250826_011902.npz\")"
   ]
  },
  {
   "cell_type": "code",
   "execution_count": 50,
   "id": "d53e5303-e0b2-42f4-aa92-9cf06b913ef5",
   "metadata": {},
   "outputs": [
    {
     "name": "stdout",
     "output_type": "stream",
     "text": [
      "Mean Return: 0.19284408\n",
      "Return fraction: 0.15545409235377652\n",
      "\n",
      "\n",
      "discard 73.10284545005999%\n",
      "pass 24.719925664151237%\n",
      "riichi 1.490223383232858%\n",
      "tsumo 0.25145954231357803%\n",
      "ron 0.366169174165788%\n",
      "chi_high_noaka 0.0345631641825436%\n",
      "pon_noaka 0.012021970150449948%\n",
      "chi_high_aka 0.0037568656720156084%\n",
      "chi_mid_aka 0.006010985075224974%\n",
      "chi_mid_noaka 0.008515562189902046%\n",
      "pon_aka 0.002504577114677072%\n",
      "chi_low_aka 0.0020036616917416578%\n",
      "Value-Return Correlation 0.3178879658722283\n"
     ]
    }
   ],
   "source": [
    "perf_metrics(\"../training_data/ac_parallel_20250826_105221.npz\")"
   ]
  },
  {
   "cell_type": "code",
   "execution_count": 62,
   "id": "f7acb207-caed-46ce-9cf6-ab8ab8f155bb",
   "metadata": {},
   "outputs": [
    {
     "name": "stdout",
     "output_type": "stream",
     "text": [
      "Mean Return: 0.13865383\n",
      "Return fraction: 0.15846361947528834\n",
      "\n",
      "\n",
      "discard 73.26160823896808%\n",
      "riichi 1.5039267113885881%\n",
      "pass 24.469875210337214%\n",
      "pon_noaka 0.13226554120109113%\n",
      "ron 0.3637927456476136%\n",
      "tsumo 0.2475290846674484%\n",
      "chi_high_aka 0.0030003525414236173%\n",
      "chi_mid_noaka 0.008250969488914947%\n",
      "chi_high_noaka 0.003250381919875585%\n",
      "chi_mid_aka 0.002250264406067713%\n",
      "chi_low_noaka 0.0027503231629716495%\n",
      "pon_aka 0.0012501468922598406%\n",
      "chi_low_aka 0.0002500293784519681%\n",
      "Value-Return Correlation 0.36521066022664594\n"
     ]
    }
   ],
   "source": [
    "perf_metrics('../training_data/ac_parallel_20250826_113701.npz')"
   ]
  },
  {
   "cell_type": "code",
   "execution_count": 64,
   "id": "8086aa7f-25ea-455e-90b8-138496d30598",
   "metadata": {},
   "outputs": [
    {
     "name": "stdout",
     "output_type": "stream",
     "text": [
      "Mean Return: 0.18173212\n",
      "Return fraction: 0.221778701105565\n",
      "\n",
      "\n",
      "discard 73.08887476543482%\n",
      "pass 24.601270608450125%\n",
      "riichi 1.52709149234947%\n",
      "tsumo 0.2708018800382841%\n",
      "ron 0.36827046023759225%\n",
      "pon_noaka 0.12258934829191337%\n",
      "chi_high_aka 0.003014492171112624%\n",
      "chi_mid_noaka 0.007033815065929456%\n",
      "chi_high_noaka 0.004019322894816832%\n",
      "chi_low_noaka 0.0037681152138907804%\n",
      "chi_low_aka 0.000502415361852104%\n",
      "chi_mid_aka 0.002009661447408416%\n",
      "pon_aka 0.000753623042778156%\n",
      "Value-Return Correlation 0.3358648702931774\n"
     ]
    }
   ],
   "source": [
    "perf_metrics('../training_data/ac_parallel_20250826_124536.npz')"
   ]
  },
  {
   "cell_type": "code",
   "execution_count": 65,
   "id": "397b069d-35c7-40b4-9170-a1822692d573",
   "metadata": {},
   "outputs": [
    {
     "name": "stdout",
     "output_type": "stream",
     "text": [
      "Mean Return: 0.1826642\n",
      "Return fraction: 0.2329447258269148\n",
      "\n",
      "\n",
      "discard 73.24727025704038%\n",
      "pass 24.474031228459257%\n",
      "riichi 1.5257090338757855%\n",
      "tsumo 0.2579894306750182%\n",
      "ron 0.370625668075244%\n",
      "chi_high_noaka 0.0811680202994975%\n",
      "pon_noaka 0.032217460365031314%\n",
      "chi_low_aka 0.0024974775476768463%\n",
      "chi_mid_aka 0.0032467208119799002%\n",
      "chi_mid_noaka 0.0032467208119799002%\n",
      "chi_high_aka 0.0017482342833737923%\n",
      "pon_aka 0.00024974775476768464%\n",
      "Value-Return Correlation 0.3327708154335926\n"
     ]
    }
   ],
   "source": [
    "perf_metrics('../training_data/ac_parallel_20250826_130523.npz')"
   ]
  },
  {
   "cell_type": "code",
   "execution_count": 67,
   "id": "60378358-d97b-4f9a-b8cc-da4ba7348a0f",
   "metadata": {},
   "outputs": [
    {
     "name": "stdout",
     "output_type": "stream",
     "text": [
      "Mean Return: 0.18563361\n",
      "Return fraction: 0.24785654793983636\n",
      "\n",
      "\n",
      "discard 72.77938366567047%\n",
      "pass 24.72441330655039%\n",
      "riichi 1.5996276517564059%\n",
      "pon_noaka 0.24986526872764683%\n",
      "tsumo 0.24251629023565724%\n",
      "ron 0.36744892459948064%\n",
      "chi_low_noaka 0.014697956983979226%\n",
      "chi_mid_noaka 0.012248297486649356%\n",
      "chi_high_aka 0.007348978491989613%\n",
      "chi_low_aka 0.002449659497329871%\n",
      "Value-Return Correlation 0.3301529637584454\n"
     ]
    }
   ],
   "source": [
    "perf_metrics('../training_data/ac_parallel_20250826_133454.npz')"
   ]
  },
  {
   "cell_type": "code",
   "execution_count": 69,
   "id": "a4286487-e246-4d14-8f15-d85216d37b07",
   "metadata": {},
   "outputs": [
    {
     "name": "stdout",
     "output_type": "stream",
     "text": [
      "Mean Return: 0.19261858\n",
      "Return fraction: 0.2380489994804461\n",
      "\n",
      "\n",
      "discard 72.76604437898177%\n",
      "riichi 1.6413867549067578%\n",
      "ron 0.41362542686648474%\n",
      "pass 24.87679510913154%\n",
      "tsumo 0.25826368116541487%\n",
      "chi_high_aka 0.006305265653452512%\n",
      "chi_mid_noaka 0.02244674572629094%\n",
      "chi_low_aka 0.004287580644347708%\n",
      "pon_noaka 0.0025221062613810046%\n",
      "chi_low_noaka 0.0015132637568286028%\n",
      "chi_mid_aka 0.00580084440117631%\n",
      "pon_aka 0.0007566318784143014%\n",
      "chi_high_noaka 0.00025221062613810046%\n",
      "Value-Return Correlation 0.3341974929486128\n"
     ]
    }
   ],
   "source": [
    "perf_metrics('../training_data/ac_parallel_20250826_134926.npz')"
   ]
  },
  {
   "cell_type": "code",
   "execution_count": 79,
   "id": "edc45974-66f8-4393-80b8-3512f8ca4ecf",
   "metadata": {},
   "outputs": [
    {
     "name": "stdout",
     "output_type": "stream",
     "text": [
      "Mean Return: 0.19342147\n",
      "Return fraction: 0.24034447621865038\n",
      "\n",
      "\n",
      "discard 72.79866700042226%\n",
      "pass 24.643298718833677%\n",
      "riichi 1.665996627045833%\n",
      "ron 0.42907820247333117%\n",
      "tsumo 0.2700386094528684%\n",
      "chi_high_noaka 0.1734517659968799%\n",
      "chi_high_aka 0.006321128498428567%\n",
      "chi_mid_noaka 0.005056902798742854%\n",
      "chi_mid_aka 0.004045522238994283%\n",
      "chi_low_aka 0.0022756062594342843%\n",
      "pon_aka 0.0010113805597485707%\n",
      "chi_low_noaka 0.0005056902798742854%\n",
      "pon_noaka 0.0002528451399371427%\n",
      "Value-Return Correlation 0.3210917004429643\n"
     ]
    }
   ],
   "source": [
    "perf_metrics('../training_data/ac_parallel_20250826_140339.npz')"
   ]
  },
  {
   "cell_type": "code",
   "execution_count": 78,
   "id": "a2feccad-929b-4ab8-8f46-bced9edffbb6",
   "metadata": {},
   "outputs": [
    {
     "name": "stdout",
     "output_type": "stream",
     "text": [
      "Mean Return: 0.19052091\n",
      "Return fraction: 0.20355767374272155\n",
      "\n",
      "\n",
      "discard 72.71713394372351%\n",
      "pass 24.822421169225766%\n",
      "riichi 1.6637535947646003%\n",
      "ron 0.416891074821913%\n",
      "tsumo 0.27183025597772514%\n",
      "chi_low_noaka 0.06376578901907384%\n",
      "chi_high_noaka 0.017783287774243702%\n",
      "chi_mid_noaka 0.016513052933226295%\n",
      "chi_high_aka 0.005589033300476593%\n",
      "chi_mid_aka 0.0025404696820348145%\n",
      "chi_low_aka 0.0012702348410174073%\n",
      "pon_aka 0.000508093936406963%\n",
      "Value-Return Correlation 0.33228519527177874\n"
     ]
    }
   ],
   "source": [
    "perf_metrics('../training_data/ac_parallel_20250826_141956.npz')"
   ]
  },
  {
   "cell_type": "code",
   "execution_count": 80,
   "id": "ec48b5f0-a74a-4707-b37b-c415fc85cd55",
   "metadata": {},
   "outputs": [
    {
     "name": "stdout",
     "output_type": "stream",
     "text": [
      "Mean Return: 0.19145013\n",
      "Return fraction: 0.20592708032224413\n",
      "\n",
      "\n",
      "discard 72.69923460731208%\n",
      "pass 24.755237724182138%\n",
      "riichi 1.6994482637274246%\n",
      "ron 0.4014227003657295%\n",
      "tsumo 0.2775019794638481%\n",
      "pon_noaka 0.12140711601543352%\n",
      "chi_low_noaka 0.021617002023451935%\n",
      "chi_high_noaka 0.007038093682054118%\n",
      "chi_high_aka 0.005781291238830168%\n",
      "chi_mid_noaka 0.005529930750185378%\n",
      "chi_mid_aka 0.002764965375092689%\n",
      "chi_low_aka 0.002262244397803109%\n",
      "pon_aka 0.0007540814659343697%\n",
      "Value-Return Correlation 0.33641485741515686\n"
     ]
    }
   ],
   "source": [
    "perf_metrics('../training_data/ac_parallel_20250826_143735.npz')"
   ]
  },
  {
   "cell_type": "code",
   "execution_count": 82,
   "id": "9f90a543-2ad8-40cd-9245-89c4ec60f0b8",
   "metadata": {},
   "outputs": [
    {
     "name": "stdout",
     "output_type": "stream",
     "text": [
      "Mean Return: 0.16855012\n",
      "Return fraction: 0.1811697321593904\n",
      "\n",
      "\n",
      "discard 72.81426690713727%\n",
      "pass 24.68679212737839%\n",
      "riichi 1.6949625469589855%\n",
      "ron 0.41410152019014423%\n",
      "tsumo 0.27902705801479855%\n",
      "chi_low_noaka 0.06645917199988839%\n",
      "chi_high_noaka 0.016234301557224644%\n",
      "chi_mid_noaka 0.014965996748066469%\n",
      "chi_high_aka 0.007990320297696505%\n",
      "chi_mid_aka 0.002282948656484716%\n",
      "chi_low_aka 0.002282948656484716%\n",
      "pon_aka 0.0005073219236632701%\n",
      "pon_noaka 0.00012683048091581754%\n",
      "Value-Return Correlation 0.3475717378280132\n"
     ]
    }
   ],
   "source": [
    "perf_metrics('../training_data/ac_parallel_20250826_154426.npz')"
   ]
  },
  {
   "cell_type": "code",
   "execution_count": 84,
   "id": "0e01d980-f53e-48fd-a892-c6d88a385be2",
   "metadata": {},
   "outputs": [
    {
     "name": "stdout",
     "output_type": "stream",
     "text": [
      "Mean Return: 0.16279772\n",
      "Return fraction: 0.1782004147277576\n",
      "\n",
      "\n",
      "discard 72.87622408424804%\n",
      "pass 24.621273792260016%\n",
      "riichi 1.6110772446224855%\n",
      "ron 0.40765996867454973%\n",
      "tsumo 0.2668090321294112%\n",
      "pon_noaka 0.16243293488673238%\n",
      "chi_low_noaka 0.027766313655851686%\n",
      "chi_mid_noaka 0.00921336771307806%\n",
      "chi_mid_aka 0.005174631181317815%\n",
      "chi_high_aka 0.0040387365317602454%\n",
      "chi_low_aka 0.00378631549852523%\n",
      "chi_high_noaka 0.002902841882202676%\n",
      "pon_aka 0.0016407367160275995%\n",
      "Value-Return Correlation 0.35535795483480354\n"
     ]
    }
   ],
   "source": [
    "perf_metrics('../training_data/ac_parallel_20250826_160937.npz')"
   ]
  },
  {
   "cell_type": "code",
   "execution_count": null,
   "id": "11012d10-9d15-439b-9399-3c4de5303893",
   "metadata": {},
   "outputs": [],
   "source": []
  }
 ],
 "metadata": {
  "kernelspec": {
   "display_name": "Python 3 (ipykernel)",
   "language": "python",
   "name": "python3"
  },
  "language_info": {
   "codemirror_mode": {
    "name": "ipython",
    "version": 3
   },
   "file_extension": ".py",
   "mimetype": "text/x-python",
   "name": "python",
   "nbconvert_exporter": "python",
   "pygments_lexer": "ipython3",
   "version": "3.12.10"
  }
 },
 "nbformat": 4,
 "nbformat_minor": 5
}
