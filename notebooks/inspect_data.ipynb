{
 "cells": [
  {
   "cell_type": "code",
   "execution_count": 1,
   "id": "aa48f853-4818-48b2-ba47-b072913ed590",
   "metadata": {},
   "outputs": [],
   "source": [
    "import numpy as np\n",
    "from collections import Counter"
   ]
  },
  {
   "cell_type": "code",
   "execution_count": 26,
   "id": "91b558c1-197d-4dc3-b59b-a6644c2a264c",
   "metadata": {},
   "outputs": [],
   "source": [
    "ACTION_HEAD_ORDER: list[str] = [\n",
    "    'discard',       # uses tile head\n",
    "    'riichi',        # uses tile head\n",
    "    'tsumo',\n",
    "    'ron',\n",
    "    'pass',\n",
    "    'kan',           # uses tile head (kakan/ankan pass tile; daiminkan uses no-op)\n",
    "    'chi_low_noaka',\n",
    "    'chi_mid_noaka',\n",
    "    'chi_high_noaka',\n",
    "    'chi_low_aka',\n",
    "    'chi_mid_aka',\n",
    "    'chi_high_aka',\n",
    "    'pon_noaka',\n",
    "    'pon_aka',\n",
    "]\n",
    "ACTION_HEAD_INDEX = {name: i for i, name in enumerate(ACTION_HEAD_ORDER)}"
   ]
  },
  {
   "cell_type": "code",
   "execution_count": 27,
   "id": "9b6159dc-d130-4f1f-9538-7b3b77a30887",
   "metadata": {},
   "outputs": [],
   "source": [
    "def perf_metrics(data_file):\n",
    "    data_zip = np.load(data_file, allow_pickle=True)\n",
    "    print(np.mean(np.abs(data_zip[\"returns\"])))\n",
    "    print(np.sum(data_zip[\"returns\"] > 0.1) / len(data_zip[\"returns\"]))\n",
    "    action_counter = Counter(data_zip[\"action_idx\"])\n",
    "    print(\"\\n\")\n",
    "    for idx, ct in action_counter.items():\n",
    "        print(ACTION_HEAD_ORDER[idx], f\"{ct/len(data_zip[\"action_idx\"]) * 100}%\")"
   ]
  },
  {
   "cell_type": "code",
   "execution_count": 28,
   "id": "f021deab-0e0b-4921-921e-f708589840ce",
   "metadata": {},
   "outputs": [
    {
     "name": "stdout",
     "output_type": "stream",
     "text": [
      "0.18755879\n",
      "0.154802676642605\n",
      "\n",
      "\n",
      "discard 73.34522617730373%\n",
      "pass 24.41595849046189%\n",
      "riichi 1.489616342875208%\n",
      "chi_low_aka 0.0027599426935535267%\n",
      "ron 0.3698323209361726%\n",
      "tsumo 0.24939845794474594%\n",
      "pon_aka 0.001254519406160694%\n",
      "pon_noaka 0.09258353217465921%\n",
      "chi_high_noaka 0.029104850222928098%\n",
      "chi_low_noaka 0.0027599426935535267%\n",
      "chi_mid_aka 0.0005018077624642775%\n",
      "kan 0.00025090388123213877%\n",
      "chi_high_aka 0.00025090388123213877%\n",
      "chi_mid_noaka 0.0005018077624642775%\n"
     ]
    }
   ],
   "source": [
    "perf_metrics(\"../training_data/ac_parallel_20250825_192500.npz\")"
   ]
  },
  {
   "cell_type": "code",
   "execution_count": 29,
   "id": "37507ec6-e7da-47d1-8b65-e6b1a2a9a91e",
   "metadata": {},
   "outputs": [
    {
     "name": "stdout",
     "output_type": "stream",
     "text": [
      "0.18243663\n",
      "0.15093487332042246\n",
      "\n",
      "\n",
      "discard 73.22009703116578%\n",
      "pass 24.690039331563078%\n",
      "riichi 1.4866632060215226%\n",
      "tsumo 0.24407530896240542%\n",
      "ron 0.355381635953441%\n",
      "chi_high_aka 0.0029947890670233793%\n",
      "pon_noaka 0.0007486972667558448%\n"
     ]
    }
   ],
   "source": [
    "perf_metrics(\"../training_data/ac_parallel_20250825_154932.npz\")"
   ]
  },
  {
   "cell_type": "code",
   "execution_count": 30,
   "id": "f03b1205-8361-4042-b31f-befd0dd61887",
   "metadata": {},
   "outputs": [
    {
     "name": "stdout",
     "output_type": "stream",
     "text": [
      "0.16047949\n",
      "0.14780238752959748\n",
      "\n",
      "\n",
      "discard 74.52890686661405%\n",
      "pass 20.92911404893449%\n",
      "chi_low_noaka 0.5882498026835044%\n",
      "pon_noaka 0.9458859510655091%\n",
      "chi_high_noaka 0.6499112075769534%\n",
      "kan 0.12455603788476717%\n",
      "ron 0.3810674822415154%\n",
      "riichi 1.1900651144435674%\n",
      "tsumo 0.2244475138121547%\n",
      "chi_mid_noaka 0.26144435674822414%\n",
      "chi_high_aka 0.05056235201262825%\n",
      "pon_aka 0.06412786108918705%\n",
      "chi_low_aka 0.044396211523283345%\n",
      "chi_mid_aka 0.017265193370165743%\n"
     ]
    }
   ],
   "source": [
    "perf_metrics(\"../training_data/gen0.npz\")"
   ]
  },
  {
   "cell_type": "code",
   "execution_count": 32,
   "id": "dbef20ea-20e7-47ca-b1fd-e70eaf62645e",
   "metadata": {},
   "outputs": [
    {
     "name": "stdout",
     "output_type": "stream",
     "text": [
      "0.18317343\n",
      "0.152802251928201\n",
      "\n",
      "\n",
      "discard 73.51753491065229%\n",
      "pass 24.424798281475983%\n",
      "riichi 1.4636029347256652%\n",
      "tsumo 0.23737488939633583%\n",
      "ron 0.35568634430137336%\n",
      "chi_mid_noaka 0.0005013197241738877%\n",
      "pon_noaka 0.00025065986208694385%\n",
      "chi_low_aka 0.00025065986208694385%\n"
     ]
    }
   ],
   "source": [
    "perf_metrics(\"../training_data/ac_parallel_20250825_213051.npz\")"
   ]
  },
  {
   "cell_type": "code",
   "execution_count": 33,
   "id": "8bcecd44-ff67-45db-b8a6-b9aee5fe5d37",
   "metadata": {},
   "outputs": [
    {
     "name": "stdout",
     "output_type": "stream",
     "text": [
      "0.18271816\n",
      "0.1499126858240807\n",
      "\n",
      "\n",
      "discard 73.44047875188264%\n",
      "pass 24.57506267106323%\n",
      "riichi 1.4002792052158337%\n",
      "ron 0.35200872641391423%\n",
      "tsumo 0.22991899045798664%\n",
      "pon_noaka 0.00025018388515558936%\n",
      "chi_high_aka 0.000750551655466768%\n",
      "chi_mid_noaka 0.0010007355406223574%\n",
      "chi_high_noaka 0.00025018388515558936%\n"
     ]
    }
   ],
   "source": [
    "perf_metrics(\"../training_data/ac_parallel_20250825_220453.npz\")"
   ]
  },
  {
   "cell_type": "code",
   "execution_count": 147,
   "id": "2a322a30-28a8-4af0-b7f7-e2e552f6f6ee",
   "metadata": {},
   "outputs": [
    {
     "data": {
      "text/plain": [
       "np.float64(0.154802676642605)"
      ]
     },
     "execution_count": 147,
     "metadata": {},
     "output_type": "execute_result"
    }
   ],
   "source": []
  },
  {
   "cell_type": "code",
   "execution_count": 5,
   "id": "4d4f5ed6-2256-4cd3-9e4f-566affcf3abb",
   "metadata": {},
   "outputs": [
    {
     "ename": "NameError",
     "evalue": "name 'data_zip' is not defined",
     "output_type": "error",
     "traceback": [
      "\u001b[31m---------------------------------------------------------------------------\u001b[39m",
      "\u001b[31mNameError\u001b[39m                                 Traceback (most recent call last)",
      "\u001b[36mCell\u001b[39m\u001b[36m \u001b[39m\u001b[32mIn[5]\u001b[39m\u001b[32m, line 1\u001b[39m\n\u001b[32m----> \u001b[39m\u001b[32m1\u001b[39m Counter(\u001b[43mdata_zip\u001b[49m[\u001b[33m\"\u001b[39m\u001b[33maction_idx\u001b[39m\u001b[33m\"\u001b[39m])\n",
      "\u001b[31mNameError\u001b[39m: name 'data_zip' is not defined"
     ]
    }
   ],
   "source": []
  },
  {
   "cell_type": "code",
   "execution_count": 158,
   "id": "683c936f-7e72-4b56-9b71-456851f85f63",
   "metadata": {},
   "outputs": [],
   "source": [
    "data_zip.close()"
   ]
  },
  {
   "cell_type": "code",
   "execution_count": 15,
   "id": "6708929f-4dd9-43e9-9d82-09767a990be7",
   "metadata": {},
   "outputs": [
    {
     "data": {
      "text/plain": [
       "array([0., 0., 0., ..., 0., 0., 0.], shape=(7808,), dtype=float32)"
      ]
     },
     "execution_count": 15,
     "metadata": {},
     "output_type": "execute_result"
    }
   ],
   "source": [
    "data_zip[\"returns\"]"
   ]
  },
  {
   "cell_type": "code",
   "execution_count": null,
   "id": "4b5e728a-8ffc-4349-895b-d71c390d7992",
   "metadata": {},
   "outputs": [],
   "source": []
  }
 ],
 "metadata": {
  "kernelspec": {
   "display_name": "Python 3 (ipykernel)",
   "language": "python",
   "name": "python3"
  },
  "language_info": {
   "codemirror_mode": {
    "name": "ipython",
    "version": 3
   },
   "file_extension": ".py",
   "mimetype": "text/x-python",
   "name": "python",
   "nbconvert_exporter": "python",
   "pygments_lexer": "ipython3",
   "version": "3.12.10"
  }
 },
 "nbformat": 4,
 "nbformat_minor": 5
}
