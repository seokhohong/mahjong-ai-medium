{
 "cells": [
  {
   "cell_type": "code",
   "execution_count": 111,
   "id": "aa48f853-4818-48b2-ba47-b072913ed590",
   "metadata": {},
   "outputs": [],
   "source": [
    "import numpy as np\n",
    "from collections import Counter"
   ]
  },
  {
   "cell_type": "code",
   "execution_count": 112,
   "id": "91b558c1-197d-4dc3-b59b-a6644c2a264c",
   "metadata": {},
   "outputs": [],
   "source": [
    "ACTION_HEAD_ORDER: list[str] = [\n",
    "    'discard',       # uses tile head\n",
    "    'riichi',        # uses tile head\n",
    "    'tsumo',\n",
    "    'ron',\n",
    "    'pass',\n",
    "    'kan',           # uses tile head (kakan/ankan pass tile; daiminkan uses no-op)\n",
    "    'chi_low_noaka',\n",
    "    'chi_mid_noaka',\n",
    "    'chi_high_noaka',\n",
    "    'chi_low_aka',\n",
    "    'chi_mid_aka',\n",
    "    'chi_high_aka',\n",
    "    'pon_noaka',\n",
    "    'pon_aka',\n",
    "]\n",
    "ACTION_HEAD_INDEX = {name: i for i, name in enumerate(ACTION_HEAD_ORDER)}"
   ]
  },
  {
   "cell_type": "code",
   "execution_count": 113,
   "id": "9b6159dc-d130-4f1f-9538-7b3b77a30887",
   "metadata": {},
   "outputs": [],
   "source": [
    "def perf_metrics(data_file):\n",
    "    data_zip = np.load(data_file, allow_pickle=True)\n",
    "    print(\"Mean Return:\", np.mean(np.abs(data_zip[\"returns\"])))\n",
    "    print(\"Return fraction:\", np.sum(data_zip[\"returns\"] > 0.05) / len(data_zip[\"returns\"]))\n",
    "    action_counter = Counter(data_zip[\"action_idx\"])\n",
    "    print(\"\\n\")\n",
    "    for idx, ct in sorted(list(action_counter.items()), key=lambda x: -x[1]):\n",
    "        print(ACTION_HEAD_ORDER[idx], f\"{ct/len(data_zip[\"action_idx\"]) * 100}%\")\n",
    "    old_values = data_zip['returns'] - data_zip['advantages']\n",
    "    print(\"Value-Return Correlation\", np.corrcoef(old_values, data_zip[\"returns\"])[0,1])\n",
    "    data_zip.close()"
   ]
  },
  {
   "cell_type": "code",
   "execution_count": 220,
   "id": "1229c3f6-54c7-4a0c-a319-a22ce282f743",
   "metadata": {},
   "outputs": [],
   "source": [
    "new_zip = np.load(\"../training_data/ac_parallel_20250829_140220.npz\", allow_pickle=True)"
   ]
  },
  {
   "cell_type": "code",
   "execution_count": 221,
   "id": "426e4322-fa4b-423f-b85a-6604f0974364",
   "metadata": {},
   "outputs": [
    {
     "data": {
      "text/plain": [
       "['action_idx',\n",
       " 'tile_idx',\n",
       " 'returns',\n",
       " 'advantages',\n",
       " 'joint_log_probs',\n",
       " 'game_ids',\n",
       " 'step_ids',\n",
       " 'hand_idx',\n",
       " 'disc_idx',\n",
       " 'called_idx',\n",
       " 'seat_winds',\n",
       " 'riichi_declarations',\n",
       " 'dora_indicator_tiles',\n",
       " 'legal_action_mask',\n",
       " 'called_discards',\n",
       " 'round_wind',\n",
       " 'remaining_tiles',\n",
       " 'owner_of_reactable_tile',\n",
       " 'reactable_tile',\n",
       " 'newly_drawn_tile',\n",
       " 'wall_count',\n",
       " 'deal_in_tiles',\n",
       " 'last_discards',\n",
       " 'actor_ids',\n",
       " 'game_outcomes_obj']"
      ]
     },
     "execution_count": 221,
     "metadata": {},
     "output_type": "execute_result"
    }
   ],
   "source": [
    "list(new_zip.keys())"
   ]
  },
  {
   "cell_type": "code",
   "execution_count": 217,
   "id": "5d9ff2a5-fdd8-48a5-b795-b7f18cd996ea",
   "metadata": {},
   "outputs": [
    {
     "data": {
      "text/plain": [
       "np.str_('0')"
      ]
     },
     "execution_count": 217,
     "metadata": {},
     "output_type": "execute_result"
    }
   ],
   "source": [
    "max(new_zip['actor_ids'])"
   ]
  },
  {
   "cell_type": "code",
   "execution_count": 219,
   "id": "6c8313c7-20b5-41ba-a021-38b02d0cf9ad",
   "metadata": {},
   "outputs": [
    {
     "data": {
      "text/plain": [
       "array([0.     , 0.     , 0.     , ..., 0.29403, 0.297  , 0.3    ],\n",
       "      shape=(4174,), dtype=float32)"
      ]
     },
     "execution_count": 219,
     "metadata": {},
     "output_type": "execute_result"
    }
   ],
   "source": [
    "new_zip['returns']"
   ]
  },
  {
   "cell_type": "code",
   "execution_count": 224,
   "id": "f021deab-0e0b-4921-921e-f708589840ce",
   "metadata": {},
   "outputs": [
    {
     "name": "stdout",
     "output_type": "stream",
     "text": [
      "Mean Return: 0.11422934\n",
      "Return fraction: 0.19357291309752175\n",
      "\n",
      "\n",
      "discard 74.54075265294281%\n",
      "pass 23.031520186875216%\n",
      "riichi 1.3600474190861822%\n",
      "ron 0.34038700576982234%\n",
      "tsumo 0.24009663889715613%\n",
      "pon_noaka 0.17882197584527773%\n",
      "chi_high_noaka 0.12304952743479251%\n",
      "chi_low_noaka 0.07803140764157573%\n",
      "kan 0.048769629775984834%\n",
      "chi_mid_noaka 0.02826137520351942%\n",
      "chi_low_aka 0.011504630613822063%\n",
      "chi_high_aka 0.009503825289679095%\n",
      "chi_mid_aka 0.006002415972428903%\n",
      "pon_aka 0.0032513086517323227%\n",
      "Value-Return Correlation 0.32851497494419357\n"
     ]
    }
   ],
   "source": [
    "perf_metrics(\"../training_data/ac_parallel_20250829_150902.npz\")"
   ]
  },
  {
   "cell_type": "code",
   "execution_count": 225,
   "id": "ff7f15bd-edc5-439e-8531-5f70b0048df2",
   "metadata": {},
   "outputs": [
    {
     "name": "stdout",
     "output_type": "stream",
     "text": [
      "Mean Return: 0.11453858\n",
      "Return fraction: 0.19057834716945027\n",
      "\n",
      "\n",
      "discard 74.45543108505875%\n",
      "pass 23.406076812480958%\n",
      "riichi 1.344079929698929%\n",
      "ron 0.33438331709257735%\n",
      "tsumo 0.252801845151316%\n",
      "pon_noaka 0.0790635252764076%\n",
      "chi_high_noaka 0.044064066634940544%\n",
      "kan 0.029208181312303443%\n",
      "chi_low_noaka 0.028452797312847316%\n",
      "chi_mid_noaka 0.012589733324268725%\n",
      "chi_low_aka 0.004532303996736741%\n",
      "pon_aka 0.004028714663765992%\n",
      "chi_high_aka 0.0035251253307952432%\n",
      "chi_mid_aka 0.0017625626653976216%\n",
      "Value-Return Correlation 0.34529959164505536\n"
     ]
    }
   ],
   "source": [
    "perf_metrics(\"../training_data/ac_parallel_20250829_153655.npz\")"
   ]
  },
  {
   "cell_type": "code",
   "execution_count": 227,
   "id": "37507ec6-e7da-47d1-8b65-e6b1a2a9a91e",
   "metadata": {},
   "outputs": [
    {
     "name": "stdout",
     "output_type": "stream",
     "text": [
      "Mean Return: 0.13158001\n",
      "Return fraction: 0.20487902645589656\n",
      "\n",
      "\n",
      "discard 74.051585914856%\n",
      "pass 23.63660657388945%\n",
      "riichi 1.5764075893683065%\n",
      "ron 0.38928402573642773%\n",
      "tsumo 0.289586202643534%\n",
      "chi_low_noaka 0.015160235985775072%\n",
      "chi_mid_noaka 0.012590704462762349%\n",
      "pon_noaka 0.010792032396653443%\n",
      "chi_high_noaka 0.008736407178243264%\n",
      "chi_high_aka 0.0033403909799165415%\n",
      "chi_mid_aka 0.0020556252184101794%\n",
      "chi_low_aka 0.0017986720661089068%\n",
      "kan 0.0015417189138076347%\n",
      "pon_aka 0.0005139063046025449%\n",
      "Value-Return Correlation 0.32401918536812935\n"
     ]
    }
   ],
   "source": [
    "perf_metrics(\"../training_data/ac_parallel_20250829_160817.npz\")"
   ]
  },
  {
   "cell_type": "code",
   "execution_count": 161,
   "id": "0da48b41-ace7-4b38-b4d8-2a4f3fac7559",
   "metadata": {},
   "outputs": [
    {
     "name": "stdout",
     "output_type": "stream",
     "text": [
      "Mean Return: 0.16223681\n",
      "Return fraction: 0.19623640883051133\n",
      "\n",
      "\n",
      "discard 74.79425803270522%\n",
      "pass 20.61206646774464%\n",
      "riichi 1.3251866800185028%\n",
      "pon_noaka 0.9930004524035847%\n",
      "chi_high_noaka 0.6237069644736106%\n",
      "chi_low_noaka 0.5418676643267065%\n",
      "ron 0.4234294224991994%\n",
      "tsumo 0.27245878806671175%\n",
      "chi_mid_noaka 0.17740320342403432%\n",
      "kan 0.09276815078763972%\n",
      "chi_high_aka 0.053627615934772555%\n",
      "pon_aka 0.04320708392848974%\n",
      "chi_low_aka 0.037107260315055894%\n",
      "chi_mid_aka 0.009912213371829997%\n",
      "Value-Return Correlation 0.3559128841240819\n"
     ]
    }
   ],
   "source": [
    "perf_metrics(\"../training_data/ac_parallel_20250828_154546.npz\")"
   ]
  },
  {
   "cell_type": "code",
   "execution_count": 162,
   "id": "8e0023c7-8e89-4e0b-b9b0-44e690acf8c0",
   "metadata": {},
   "outputs": [
    {
     "name": "stdout",
     "output_type": "stream",
     "text": [
      "Mean Return: 0.17023166\n",
      "Return fraction: 0.1946564688650734\n",
      "\n",
      "\n",
      "discard 74.34475858441036%\n",
      "pass 21.80270038886425%\n",
      "riichi 1.4672662946497643%\n",
      "pon_noaka 0.7202240353175381%\n",
      "ron 0.4391484182405182%\n",
      "chi_high_noaka 0.3906693209831973%\n",
      "tsumo 0.29551619923877503%\n",
      "chi_low_noaka 0.27798120661378667%\n",
      "chi_mid_noaka 0.11397745206242459%\n",
      "kan 0.05131564018195134%\n",
      "chi_high_aka 0.037390793097401724%\n",
      "pon_aka 0.035069985249976794%\n",
      "chi_low_aka 0.018050727702193937%\n",
      "chi_mid_aka 0.005930953387863722%\n",
      "Value-Return Correlation 0.35946106778058423\n"
     ]
    }
   ],
   "source": [
    "perf_metrics(\"../training_data/ac_parallel_20250828_160927.npz\")"
   ]
  },
  {
   "cell_type": "code",
   "execution_count": 163,
   "id": "1d675594-c343-42a8-884c-ecb8ab6242cd",
   "metadata": {},
   "outputs": [
    {
     "name": "stdout",
     "output_type": "stream",
     "text": [
      "Mean Return: 0.16640237\n",
      "Return fraction: 0.19260311191118804\n",
      "\n",
      "\n",
      "discard 74.0608155477431%\n",
      "pass 22.82650286204408%\n",
      "riichi 1.523341901917531%\n",
      "ron 0.4278300081919431%\n",
      "pon_noaka 0.4160171748325017%\n",
      "tsumo 0.28068319264933606%\n",
      "chi_high_noaka 0.1535668336727383%\n",
      "chi_low_noaka 0.14483560901575987%\n",
      "chi_mid_noaka 0.07318820668349567%\n",
      "kan 0.03980411240681344%\n",
      "chi_high_aka 0.022341663092856574%\n",
      "pon_aka 0.01540804351231488%\n",
      "chi_low_aka 0.00898802538218368%\n",
      "chi_mid_aka 0.006676818855336447%\n",
      "Value-Return Correlation 0.36210705928687514\n"
     ]
    }
   ],
   "source": [
    "perf_metrics(\"../training_data/ac_parallel_20250828_164712.npz\")"
   ]
  },
  {
   "cell_type": "code",
   "execution_count": 228,
   "id": "ff3090b2-f8a6-45b7-9ec5-0665f42372d1",
   "metadata": {},
   "outputs": [
    {
     "name": "stdout",
     "output_type": "stream",
     "text": [
      "Mean Return: 0.14737715\n",
      "Return fraction: 0.20625397640387985\n",
      "\n",
      "\n",
      "discard 75.37950240537555%\n",
      "pass 22.407105624448885%\n",
      "riichi 1.416436918886942%\n",
      "ron 0.4760522820372582%\n",
      "tsumo 0.2835106204864328%\n",
      "chi_high_noaka 0.011440881338527307%\n",
      "chi_mid_noaka 0.007813284816555235%\n",
      "chi_low_noaka 0.005301871839805337%\n",
      "pon_noaka 0.004185688294583162%\n",
      "kan 0.0039066424082776175%\n",
      "chi_high_aka 0.003069504749360985%\n",
      "pon_aka 0.0008371376589166324%\n",
      "chi_mid_aka 0.0005580917726110882%\n",
      "chi_low_aka 0.0002790458863055441%\n",
      "Value-Return Correlation 0.3728334208201131\n"
     ]
    }
   ],
   "source": [
    "perf_metrics(\"../training_data/ac_parallel_20250829_182007.npz\")"
   ]
  },
  {
   "cell_type": "code",
   "execution_count": 166,
   "id": "5a4dafb9-7689-42ec-b9c1-7ada3d5f20bb",
   "metadata": {},
   "outputs": [
    {
     "name": "stdout",
     "output_type": "stream",
     "text": [
      "Mean Return: 0.122376665\n",
      "Return fraction: 0.1479834369578706\n",
      "\n",
      "\n",
      "discard 74.31690114092515%\n",
      "pass 21.933621202719987%\n",
      "riichi 1.4293854706157956%\n",
      "pon_noaka 0.7025363741120159%\n",
      "ron 0.4079978726367907%\n",
      "chi_high_noaka 0.38140583252079874%\n",
      "chi_low_noaka 0.2826353978042572%\n",
      "tsumo 0.2719985817578605%\n",
      "chi_mid_noaka 0.12156361195882033%\n",
      "kan 0.054197110331640735%\n",
      "chi_high_aka 0.037482113687302934%\n",
      "pon_aka 0.031150675564447707%\n",
      "chi_low_aka 0.02228666219245039%\n",
      "chi_mid_aka 0.006837953172683643%\n",
      "Value-Return Correlation 0.37866761152886436\n"
     ]
    }
   ],
   "source": [
    "perf_metrics('../training_data/ac_parallel_20250828_175507.npz')"
   ]
  },
  {
   "cell_type": "code",
   "execution_count": 181,
   "id": "8cb84d4b-b10a-427a-8c26-ceb06fc432bc",
   "metadata": {},
   "outputs": [
    {
     "name": "stdout",
     "output_type": "stream",
     "text": [
      "Mean Return: 0.1218145\n",
      "Return fraction: 0.1475355691707397\n",
      "\n",
      "\n",
      "discard 74.0901281949526%\n",
      "pass 23.211044173107993%\n",
      "riichi 1.4563069509981386%\n",
      "ron 0.42091572212393463%\n",
      "pon_noaka 0.2767700094987672%\n",
      "tsumo 0.2601279645242807%\n",
      "chi_high_noaka 0.08858688555649717%\n",
      "chi_mid_noaka 0.07706546980492962%\n",
      "chi_low_noaka 0.07220087204315666%\n",
      "chi_high_aka 0.016642044974486465%\n",
      "chi_low_aka 0.014337761824172955%\n",
      "kan 0.007424912373232423%\n",
      "chi_mid_aka 0.004864597761772967%\n",
      "pon_aka 0.0035844404560432387%\n",
      "Value-Return Correlation 0.3915873894115282\n"
     ]
    }
   ],
   "source": [
    "perf_metrics('../training_data/ac_parallel_20250828_203723.npz')"
   ]
  },
  {
   "cell_type": "code",
   "execution_count": 231,
   "id": "150829fa-4ab9-419d-835a-a8baae8dbe40",
   "metadata": {},
   "outputs": [
    {
     "name": "stdout",
     "output_type": "stream",
     "text": [
      "Mean Return: 0.12923601\n",
      "Return fraction: 0.20568522845524662\n",
      "\n",
      "\n",
      "discard 75.42825920424374%\n",
      "pass 22.41417655344351%\n",
      "riichi 1.3827301507109968%\n",
      "ron 0.44699854752928964%\n",
      "tsumo 0.28143336069872354%\n",
      "chi_mid_noaka 0.014826733149005922%\n",
      "chi_high_noaka 0.012630180089893934%\n",
      "chi_low_noaka 0.00576595178016897%\n",
      "chi_high_aka 0.004118536985834979%\n",
      "pon_noaka 0.0035693987210569816%\n",
      "kan 0.0035693987210569816%\n",
      "chi_mid_aka 0.0008237073971669956%\n",
      "pon_aka 0.0005491382647779972%\n",
      "chi_low_aka 0.0005491382647779972%\n",
      "Value-Return Correlation 0.35960501876959894\n"
     ]
    }
   ],
   "source": [
    "perf_metrics('../training_data/ac_parallel_20250829_183434.npz')"
   ]
  },
  {
   "cell_type": "code",
   "execution_count": 230,
   "id": "0f4babdc-6208-40b2-8447-69ae37f43bdf",
   "metadata": {},
   "outputs": [
    {
     "name": "stdout",
     "output_type": "stream",
     "text": [
      "Mean Return: 0.13090098\n",
      "Return fraction: 0.20875337682018844\n",
      "\n",
      "\n",
      "discard 75.34427093628517%\n",
      "pass 22.4753464672421%\n",
      "riichi 1.370494827699809%\n",
      "ron 0.4623223737673233%\n",
      "tsumo 0.2838725264105774%\n",
      "chi_high_noaka 0.018943137642485338%\n",
      "chi_mid_noaka 0.013177834881728932%\n",
      "chi_high_aka 0.0098833761612967%\n",
      "pon_noaka 0.008236146801080584%\n",
      "chi_low_noaka 0.006588917440864466%\n",
      "kan 0.003568996947134919%\n",
      "chi_mid_aka 0.0016472293602161165%\n",
      "pon_aka 0.0010981529068107444%\n",
      "chi_low_aka 0.0005490764534053722%\n",
      "Value-Return Correlation 0.37782385433399407\n"
     ]
    }
   ],
   "source": [
    "perf_metrics('../training_data/ac_parallel_20250829_184816.npz')"
   ]
  },
  {
   "cell_type": "code",
   "execution_count": 233,
   "id": "c1a310b7-1c37-4d15-aba7-e616f5730728",
   "metadata": {},
   "outputs": [
    {
     "name": "stdout",
     "output_type": "stream",
     "text": [
      "Mean Return: 0.07379851\n",
      "Return fraction: 0.14204359738192487\n",
      "\n",
      "\n",
      "discard 75.38073966203127%\n",
      "pass 21.576000446443995%\n",
      "riichi 1.1519849484596354%\n",
      "ron 0.4310310464594068%\n",
      "chi_high_noaka 0.33722465965288984%\n",
      "pon_noaka 0.32712652169638085%\n",
      "chi_low_noaka 0.31251079570669693%\n",
      "tsumo 0.24979604418732576%\n",
      "kan 0.07121844664064182%\n",
      "chi_mid_noaka 0.05500827781571961%\n",
      "chi_low_aka 0.04464439938667099%\n",
      "chi_high_aka 0.029231451979367908%\n",
      "pon_aka 0.02125923780317666%\n",
      "chi_mid_aka 0.01222406173682658%\n",
      "Value-Return Correlation 0.2525847708526395\n"
     ]
    }
   ],
   "source": [
    "perf_metrics('../training_data/ac_parallel_20250829_192357.npz')"
   ]
  },
  {
   "cell_type": "code",
   "execution_count": 60,
   "id": "f03b1205-8361-4042-b31f-befd0dd61887",
   "metadata": {},
   "outputs": [
    {
     "name": "stdout",
     "output_type": "stream",
     "text": [
      "Mean Return: 0.16047949\n",
      "Return fraction: 0.1500838595106551\n",
      "\n",
      "\n",
      "discard 74.52890686661405%\n",
      "pass 20.92911404893449%\n",
      "chi_low_noaka 0.5882498026835044%\n",
      "pon_noaka 0.9458859510655091%\n",
      "chi_high_noaka 0.6499112075769534%\n",
      "kan 0.12455603788476717%\n",
      "ron 0.3810674822415154%\n",
      "riichi 1.1900651144435674%\n",
      "tsumo 0.2244475138121547%\n",
      "chi_mid_noaka 0.26144435674822414%\n",
      "chi_high_aka 0.05056235201262825%\n",
      "pon_aka 0.06412786108918705%\n",
      "chi_low_aka 0.044396211523283345%\n",
      "chi_mid_aka 0.017265193370165743%\n",
      "Value-Return Correlation nan\n"
     ]
    }
   ],
   "source": [
    "perf_metrics(\"../training_data/gen0.npz\")"
   ]
  },
  {
   "cell_type": "code",
   "execution_count": null,
   "id": "11012d10-9d15-439b-9399-3c4de5303893",
   "metadata": {},
   "outputs": [],
   "source": []
  },
  {
   "cell_type": "code",
   "execution_count": null,
   "id": "14a99196-5654-4fe2-a0fb-97030810926e",
   "metadata": {},
   "outputs": [],
   "source": []
  }
 ],
 "metadata": {
  "kernelspec": {
   "display_name": "Python 3 (ipykernel)",
   "language": "python",
   "name": "python3"
  },
  "language_info": {
   "codemirror_mode": {
    "name": "ipython",
    "version": 3
   },
   "file_extension": ".py",
   "mimetype": "text/x-python",
   "name": "python",
   "nbconvert_exporter": "python",
   "pygments_lexer": "ipython3",
   "version": "3.12.10"
  }
 },
 "nbformat": 4,
 "nbformat_minor": 5
}
