{
 "cells": [
  {
   "cell_type": "code",
   "execution_count": 1,
   "id": "aa48f853-4818-48b2-ba47-b072913ed590",
   "metadata": {},
   "outputs": [],
   "source": [
    "import numpy as np\n",
    "from collections import Counter"
   ]
  },
  {
   "cell_type": "code",
   "execution_count": 2,
   "id": "91b558c1-197d-4dc3-b59b-a6644c2a264c",
   "metadata": {},
   "outputs": [],
   "source": [
    "ACTION_HEAD_ORDER: list[str] = [\n",
    "    'discard',       # uses tile head\n",
    "    'riichi',        # uses tile head\n",
    "    'tsumo',\n",
    "    'ron',\n",
    "    'pass',\n",
    "    'kan',           # uses tile head (kakan/ankan pass tile; daiminkan uses no-op)\n",
    "    'chi_low_noaka',\n",
    "    'chi_mid_noaka',\n",
    "    'chi_high_noaka',\n",
    "    'chi_low_aka',\n",
    "    'chi_mid_aka',\n",
    "    'chi_high_aka',\n",
    "    'pon_noaka',\n",
    "    'pon_aka',\n",
    "]\n",
    "ACTION_HEAD_INDEX = {name: i for i, name in enumerate(ACTION_HEAD_ORDER)}"
   ]
  },
  {
   "cell_type": "code",
   "execution_count": 6,
   "id": "9b6159dc-d130-4f1f-9538-7b3b77a30887",
   "metadata": {},
   "outputs": [],
   "source": [
    "def perf_metrics(data_file):\n",
    "    data_zip = np.load(data_file, allow_pickle=True)\n",
    "    print(np.mean(np.abs(data_zip[\"returns\"])))\n",
    "    print(np.sum(data_zip[\"returns\"] > 0.05) / len(data_zip[\"returns\"]))\n",
    "    action_counter = Counter(data_zip[\"action_idx\"])\n",
    "    print(\"\\n\")\n",
    "    for idx, ct in action_counter.items():\n",
    "        print(ACTION_HEAD_ORDER[idx], f\"{ct/len(data_zip[\"action_idx\"]) * 100}%\")\n",
    "    data_zip.close()"
   ]
  },
  {
   "cell_type": "code",
   "execution_count": 7,
   "id": "f021deab-0e0b-4921-921e-f708589840ce",
   "metadata": {},
   "outputs": [
    {
     "name": "stdout",
     "output_type": "stream",
     "text": [
      "0.18755879\n",
      "0.15507616187314802\n",
      "\n",
      "\n",
      "discard 73.34522617730373%\n",
      "pass 24.41595849046189%\n",
      "riichi 1.489616342875208%\n",
      "chi_low_aka 0.0027599426935535267%\n",
      "ron 0.3698323209361726%\n",
      "tsumo 0.24939845794474594%\n",
      "pon_aka 0.001254519406160694%\n",
      "pon_noaka 0.09258353217465921%\n",
      "chi_high_noaka 0.029104850222928098%\n",
      "chi_low_noaka 0.0027599426935535267%\n",
      "chi_mid_aka 0.0005018077624642775%\n",
      "kan 0.00025090388123213877%\n",
      "chi_high_aka 0.00025090388123213877%\n",
      "chi_mid_noaka 0.0005018077624642775%\n"
     ]
    }
   ],
   "source": [
    "perf_metrics(\"../training_data/ac_parallel_20250825_192500.npz\")"
   ]
  },
  {
   "cell_type": "code",
   "execution_count": 8,
   "id": "37507ec6-e7da-47d1-8b65-e6b1a2a9a91e",
   "metadata": {},
   "outputs": [
    {
     "name": "stdout",
     "output_type": "stream",
     "text": [
      "0.18243663\n",
      "0.15115449118533753\n",
      "\n",
      "\n",
      "discard 73.22009703116578%\n",
      "pass 24.690039331563078%\n",
      "riichi 1.4866632060215226%\n",
      "tsumo 0.24407530896240542%\n",
      "ron 0.355381635953441%\n",
      "chi_high_aka 0.0029947890670233793%\n",
      "pon_noaka 0.0007486972667558448%\n"
     ]
    }
   ],
   "source": [
    "perf_metrics(\"../training_data/ac_parallel_20250825_154932.npz\")"
   ]
  },
  {
   "cell_type": "code",
   "execution_count": 9,
   "id": "f03b1205-8361-4042-b31f-befd0dd61887",
   "metadata": {},
   "outputs": [
    {
     "name": "stdout",
     "output_type": "stream",
     "text": [
      "0.16047949\n",
      "0.1500838595106551\n",
      "\n",
      "\n",
      "discard 74.52890686661405%\n",
      "pass 20.92911404893449%\n",
      "chi_low_noaka 0.5882498026835044%\n",
      "pon_noaka 0.9458859510655091%\n",
      "chi_high_noaka 0.6499112075769534%\n",
      "kan 0.12455603788476717%\n",
      "ron 0.3810674822415154%\n",
      "riichi 1.1900651144435674%\n",
      "tsumo 0.2244475138121547%\n",
      "chi_mid_noaka 0.26144435674822414%\n",
      "chi_high_aka 0.05056235201262825%\n",
      "pon_aka 0.06412786108918705%\n",
      "chi_low_aka 0.044396211523283345%\n",
      "chi_mid_aka 0.017265193370165743%\n"
     ]
    }
   ],
   "source": [
    "perf_metrics(\"../training_data/gen0.npz\")"
   ]
  },
  {
   "cell_type": "code",
   "execution_count": 10,
   "id": "dbef20ea-20e7-47ca-b1fd-e70eaf62645e",
   "metadata": {},
   "outputs": [
    {
     "name": "stdout",
     "output_type": "stream",
     "text": [
      "0.18317343\n",
      "0.15287744988682708\n",
      "\n",
      "\n",
      "discard 73.51753491065229%\n",
      "pass 24.424798281475983%\n",
      "riichi 1.4636029347256652%\n",
      "tsumo 0.23737488939633583%\n",
      "ron 0.35568634430137336%\n",
      "chi_mid_noaka 0.0005013197241738877%\n",
      "pon_noaka 0.00025065986208694385%\n",
      "chi_low_aka 0.00025065986208694385%\n"
     ]
    }
   ],
   "source": [
    "perf_metrics(\"../training_data/ac_parallel_20250825_213051.npz\")"
   ]
  },
  {
   "cell_type": "code",
   "execution_count": 11,
   "id": "8bcecd44-ff67-45db-b8a6-b9aee5fe5d37",
   "metadata": {},
   "outputs": [
    {
     "name": "stdout",
     "output_type": "stream",
     "text": [
      "0.18238935\n",
      "0.15058725249370977\n",
      "\n",
      "\n",
      "discard 73.69223195727626%\n",
      "pass 24.30484421151035%\n",
      "riichi 1.4196493391544758%\n",
      "tsumo 0.2426581007031118%\n",
      "ron 0.33514663908585524%\n",
      "chi_high_noaka 0.00024862510317941785%\n",
      "chi_low_noaka 0.00348075144451185%\n",
      "chi_mid_noaka 0.0009945004127176714%\n",
      "chi_low_aka 0.0004972502063588357%\n",
      "pon_noaka 0.00024862510317941785%\n"
     ]
    }
   ],
   "source": [
    "perf_metrics(\"../training_data/ac_parallel_20250825_222614.npz\")"
   ]
  },
  {
   "cell_type": "code",
   "execution_count": 12,
   "id": "2a322a30-28a8-4af0-b7f7-e2e552f6f6ee",
   "metadata": {},
   "outputs": [
    {
     "name": "stdout",
     "output_type": "stream",
     "text": [
      "0.19302396\n",
      "0.15523899984211198\n",
      "\n",
      "\n",
      "discard 73.24098973226705%\n",
      "pass 24.502464807263852%\n",
      "riichi 1.5510617342118256%\n",
      "ron 0.35838072062092596%\n",
      "tsumo 0.26540222597032204%\n",
      "chi_mid_noaka 0.05413303192595804%\n",
      "chi_low_noaka 0.016540648644042734%\n",
      "kan 0.0007518476656383061%\n",
      "pon_noaka 0.007267860767836959%\n",
      "chi_high_noaka 0.0002506158885461021%\n",
      "chi_high_aka 0.0025061588854610206%\n",
      "chi_low_aka 0.0002506158885461021%\n"
     ]
    }
   ],
   "source": [
    "perf_metrics(\"../training_data/ac_parallel_20250825_225310.npz\")"
   ]
  },
  {
   "cell_type": "code",
   "execution_count": 13,
   "id": "4d4f5ed6-2256-4cd3-9e4f-566affcf3abb",
   "metadata": {},
   "outputs": [
    {
     "name": "stdout",
     "output_type": "stream",
     "text": [
      "0.17711326\n",
      "0.14411690602166793\n",
      "\n",
      "\n",
      "discard 73.35600907029477%\n",
      "pass 24.422608549592674%\n",
      "riichi 1.3815402704291593%\n",
      "ron 0.3401360544217687%\n",
      "tsumo 0.27294868564709834%\n",
      "chi_high_noaka 0.11337868480725624%\n",
      "chi_high_aka 0.012597631645250695%\n",
      "pon_noaka 0.058788947677836566%\n",
      "chi_mid_noaka 0.02519526329050139%\n",
      "chi_low_noaka 0.016796842193667588%\n"
     ]
    }
   ],
   "source": [
    "perf_metrics(\"../training_data/ac_parallel_20250825_230502.npz\")"
   ]
  },
  {
   "cell_type": "code",
   "execution_count": 14,
   "id": "683c936f-7e72-4b56-9b71-456851f85f63",
   "metadata": {},
   "outputs": [
    {
     "name": "stdout",
     "output_type": "stream",
     "text": [
      "0.18434078\n",
      "0.15460283304659106\n",
      "\n",
      "\n",
      "discard 73.36544516116237%\n",
      "pass 24.383338869855372%\n",
      "riichi 1.4185065273115807%\n",
      "tsumo 0.23873152495649286%\n",
      "chi_high_noaka 0.15593159833606854%\n",
      "ron 0.35078412026317485%\n",
      "chi_mid_noaka 0.013386814483541655%\n",
      "pon_noaka 0.05924904928826769%\n",
      "chi_high_aka 0.00644550326985339%\n",
      "pon_aka 0.000495807943834876%\n",
      "chi_mid_aka 0.0007437119157523142%\n",
      "chi_low_noaka 0.0052059834102661995%\n",
      "chi_low_aka 0.000991615887669752%\n",
      "kan 0.0007437119157523142%\n"
     ]
    }
   ],
   "source": [
    "perf_metrics(\"../training_data/ac_parallel_20250825_231401.npz\")"
   ]
  },
  {
   "cell_type": "code",
   "execution_count": 15,
   "id": "6708929f-4dd9-43e9-9d82-09767a990be7",
   "metadata": {},
   "outputs": [
    {
     "name": "stdout",
     "output_type": "stream",
     "text": [
      "0.18148695\n",
      "0.1511219442253925\n",
      "\n",
      "\n",
      "discard 73.61579085717017%\n",
      "pass 24.40318302387268%\n",
      "riichi 1.3501565225703156%\n",
      "tsumo 0.20312089277606518%\n",
      "ron 0.30587616794513345%\n",
      "chi_low_noaka 0.0693000693000693%\n",
      "chi_mid_noaka 0.01911726049657084%\n",
      "chi_high_noaka 0.01911726049657084%\n",
      "pon_noaka 0.007168972686214065%\n",
      "pon_aka 0.00477931512414271%\n",
      "chi_low_aka 0.002389657562071355%\n"
     ]
    }
   ],
   "source": [
    "perf_metrics(\"../training_data/ac_parallel_20250825_232819.npz\")"
   ]
  },
  {
   "cell_type": "code",
   "execution_count": null,
   "id": "4b5e728a-8ffc-4349-895b-d71c390d7992",
   "metadata": {},
   "outputs": [],
   "source": []
  }
 ],
 "metadata": {
  "kernelspec": {
   "display_name": "Python 3 (ipykernel)",
   "language": "python",
   "name": "python3"
  },
  "language_info": {
   "codemirror_mode": {
    "name": "ipython",
    "version": 3
   },
   "file_extension": ".py",
   "mimetype": "text/x-python",
   "name": "python",
   "nbconvert_exporter": "python",
   "pygments_lexer": "ipython3",
   "version": "3.12.10"
  }
 },
 "nbformat": 4,
 "nbformat_minor": 5
}
