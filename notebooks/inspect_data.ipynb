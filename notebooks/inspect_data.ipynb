{
 "cells": [
  {
   "cell_type": "code",
   "execution_count": 111,
   "id": "aa48f853-4818-48b2-ba47-b072913ed590",
   "metadata": {},
   "outputs": [],
   "source": [
    "import numpy as np\n",
    "from collections import Counter"
   ]
  },
  {
   "cell_type": "code",
   "execution_count": 112,
   "id": "91b558c1-197d-4dc3-b59b-a6644c2a264c",
   "metadata": {},
   "outputs": [],
   "source": [
    "ACTION_HEAD_ORDER: list[str] = [\n",
    "    'discard',       # uses tile head\n",
    "    'riichi',        # uses tile head\n",
    "    'tsumo',\n",
    "    'ron',\n",
    "    'pass',\n",
    "    'kan',           # uses tile head (kakan/ankan pass tile; daiminkan uses no-op)\n",
    "    'chi_low_noaka',\n",
    "    'chi_mid_noaka',\n",
    "    'chi_high_noaka',\n",
    "    'chi_low_aka',\n",
    "    'chi_mid_aka',\n",
    "    'chi_high_aka',\n",
    "    'pon_noaka',\n",
    "    'pon_aka',\n",
    "]\n",
    "ACTION_HEAD_INDEX = {name: i for i, name in enumerate(ACTION_HEAD_ORDER)}"
   ]
  },
  {
   "cell_type": "code",
   "execution_count": 113,
   "id": "9b6159dc-d130-4f1f-9538-7b3b77a30887",
   "metadata": {},
   "outputs": [],
   "source": [
    "def perf_metrics(data_file):\n",
    "    data_zip = np.load(data_file, allow_pickle=True)\n",
    "    print(\"Mean Return:\", np.mean(np.abs(data_zip[\"returns\"])))\n",
    "    print(\"Return fraction:\", np.sum(data_zip[\"returns\"] > 0.05) / len(data_zip[\"returns\"]))\n",
    "    action_counter = Counter(data_zip[\"action_idx\"])\n",
    "    print(\"\\n\")\n",
    "    for idx, ct in sorted(list(action_counter.items()), key=lambda x: -x[1]):\n",
    "        print(ACTION_HEAD_ORDER[idx], f\"{ct/len(data_zip[\"action_idx\"]) * 100}%\")\n",
    "    old_values = data_zip['returns'] - data_zip['advantages']\n",
    "    print(\"Value-Return Correlation\", np.corrcoef(old_values, data_zip[\"returns\"])[0,1])\n",
    "    data_zip.close()"
   ]
  },
  {
   "cell_type": "code",
   "execution_count": 212,
   "id": "1229c3f6-54c7-4a0c-a319-a22ce282f743",
   "metadata": {},
   "outputs": [],
   "source": [
    "new_zip = np.load(\"../training_data/ac_parallel_20250829_014000.npz\", allow_pickle=True)"
   ]
  },
  {
   "cell_type": "code",
   "execution_count": 213,
   "id": "426e4322-fa4b-423f-b85a-6604f0974364",
   "metadata": {},
   "outputs": [
    {
     "data": {
      "text/plain": [
       "['action_idx',\n",
       " 'tile_idx',\n",
       " 'returns',\n",
       " 'advantages',\n",
       " 'joint_log_probs',\n",
       " 'game_ids',\n",
       " 'step_ids',\n",
       " 'actor_ids',\n",
       " 'hand_idx',\n",
       " 'disc_idx',\n",
       " 'called_idx',\n",
       " 'seat_winds',\n",
       " 'riichi_declarations',\n",
       " 'dora_indicator_tiles',\n",
       " 'legal_action_mask',\n",
       " 'called_discards',\n",
       " 'round_wind',\n",
       " 'remaining_tiles',\n",
       " 'owner_of_reactable_tile',\n",
       " 'reactable_tile',\n",
       " 'newly_drawn_tile',\n",
       " 'wall_count',\n",
       " 'deal_in_tiles',\n",
       " 'game_outcomes_obj']"
      ]
     },
     "execution_count": 213,
     "metadata": {},
     "output_type": "execute_result"
    }
   ],
   "source": [
    "list(new_zip.keys())"
   ]
  },
  {
   "cell_type": "code",
   "execution_count": 208,
   "id": "5d9ff2a5-fdd8-48a5-b795-b7f18cd996ea",
   "metadata": {},
   "outputs": [
    {
     "data": {
      "text/plain": [
       "np.int8(5)"
      ]
     },
     "execution_count": 208,
     "metadata": {},
     "output_type": "execute_result"
    }
   ],
   "source": [
    "max(new_zip['actor_ids'])"
   ]
  },
  {
   "cell_type": "code",
   "execution_count": 214,
   "id": "6c8313c7-20b5-41ba-a021-38b02d0cf9ad",
   "metadata": {},
   "outputs": [
    {
     "data": {
      "text/plain": [
       "array([[-1, -1, -1, -1],\n",
       "       [-1, -1, -1, -1],\n",
       "       [-1, -1, -1, -1],\n",
       "       ...,\n",
       "       [-1, -1, -1, -1],\n",
       "       [-1, -1, -1, -1],\n",
       "       [-1, -1, -1,  2]], shape=(392057, 4), dtype=int8)"
      ]
     },
     "execution_count": 214,
     "metadata": {},
     "output_type": "execute_result"
    }
   ],
   "source": [
    "new_zip['riichi_declarations']"
   ]
  },
  {
   "cell_type": "code",
   "execution_count": 210,
   "id": "f021deab-0e0b-4921-921e-f708589840ce",
   "metadata": {},
   "outputs": [
    {
     "name": "stdout",
     "output_type": "stream",
     "text": [
      "Mean Return: 0.090387695\n",
      "Return fraction: 0.09839640664495214\n",
      "\n",
      "\n",
      "discard 73.54083717418641%\n",
      "pass 23.99064421755%\n",
      "riichi 1.6921008934925277%\n",
      "ron 0.41448054747141355%\n",
      "tsumo 0.2744498886641483%\n",
      "pon_noaka 0.042850911984736915%\n",
      "chi_mid_noaka 0.017344416755726847%\n",
      "chi_high_noaka 0.009947533139313926%\n",
      "chi_high_aka 0.006121558854962416%\n",
      "chi_low_noaka 0.004846234093511913%\n",
      "chi_low_aka 0.0028057144751911073%\n",
      "chi_mid_aka 0.0025506495229010067%\n",
      "kan 0.0010202598091604027%\n",
      "Value-Return Correlation 0.2748337094012235\n"
     ]
    }
   ],
   "source": [
    "perf_metrics(\"../training_data/ac_parallel_20250829_014000.npz\")"
   ]
  },
  {
   "cell_type": "code",
   "execution_count": 211,
   "id": "6f9e2f81-3e61-4ee0-a636-415b31d3f27f",
   "metadata": {},
   "outputs": [
    {
     "name": "stdout",
     "output_type": "stream",
     "text": [
      "Mean Return: 0.10473628\n",
      "Return fraction: 0.10724690888588774\n",
      "\n",
      "\n",
      "discard 73.48945153211743%\n",
      "pass 23.871399163465195%\n",
      "riichi 1.7763908374526336%\n",
      "ron 0.4513092163058728%\n",
      "tsumo 0.3207153814887173%\n",
      "pon_noaka 0.029108264386956354%\n",
      "chi_high_noaka 0.01652090681421847%\n",
      "chi_mid_noaka 0.01389854065323141%\n",
      "chi_high_aka 0.009702754795652118%\n",
      "chi_low_noaka 0.008391571715158587%\n",
      "chi_low_aka 0.004982495705875412%\n",
      "kan 0.004720259089776705%\n",
      "chi_mid_aka 0.0028846027770857647%\n",
      "pon_aka 0.0005244732321974117%\n",
      "Value-Return Correlation 0.28296770719157865\n"
     ]
    }
   ],
   "source": [
    "perf_metrics(\"../training_data/ac_parallel_20250829_011610.npz\")"
   ]
  },
  {
   "cell_type": "code",
   "execution_count": 160,
   "id": "37507ec6-e7da-47d1-8b65-e6b1a2a9a91e",
   "metadata": {},
   "outputs": [
    {
     "name": "stdout",
     "output_type": "stream",
     "text": [
      "Mean Return: 0.14808007\n",
      "Return fraction: 0.19899269579162335\n",
      "\n",
      "\n",
      "discard 75.55583397020685%\n",
      "pass 18.83107608654798%\n",
      "pon_noaka 1.441046393625418%\n",
      "riichi 1.14637232669732%\n",
      "chi_high_noaka 0.9173484345440195%\n",
      "chi_low_noaka 0.8060939398874926%\n",
      "ron 0.4061791347707882%\n",
      "chi_mid_noaka 0.3242417028953732%\n",
      "tsumo 0.25032261297718533%\n",
      "kan 0.10298557951313629%\n",
      "chi_high_aka 0.09221093250811231%\n",
      "pon_aka 0.06690304070561409%\n",
      "chi_low_aka 0.04836062492952629%\n",
      "chi_mid_aka 0.01102522019118734%\n",
      "Value-Return Correlation 0.32586325583473924\n"
     ]
    }
   ],
   "source": [
    "perf_metrics(\"../training_data/ac_parallel_20250828_150827.npz\")"
   ]
  },
  {
   "cell_type": "code",
   "execution_count": 161,
   "id": "0da48b41-ace7-4b38-b4d8-2a4f3fac7559",
   "metadata": {},
   "outputs": [
    {
     "name": "stdout",
     "output_type": "stream",
     "text": [
      "Mean Return: 0.16223681\n",
      "Return fraction: 0.19623640883051133\n",
      "\n",
      "\n",
      "discard 74.79425803270522%\n",
      "pass 20.61206646774464%\n",
      "riichi 1.3251866800185028%\n",
      "pon_noaka 0.9930004524035847%\n",
      "chi_high_noaka 0.6237069644736106%\n",
      "chi_low_noaka 0.5418676643267065%\n",
      "ron 0.4234294224991994%\n",
      "tsumo 0.27245878806671175%\n",
      "chi_mid_noaka 0.17740320342403432%\n",
      "kan 0.09276815078763972%\n",
      "chi_high_aka 0.053627615934772555%\n",
      "pon_aka 0.04320708392848974%\n",
      "chi_low_aka 0.037107260315055894%\n",
      "chi_mid_aka 0.009912213371829997%\n",
      "Value-Return Correlation 0.3559128841240819\n"
     ]
    }
   ],
   "source": [
    "perf_metrics(\"../training_data/ac_parallel_20250828_154546.npz\")"
   ]
  },
  {
   "cell_type": "code",
   "execution_count": 162,
   "id": "8e0023c7-8e89-4e0b-b9b0-44e690acf8c0",
   "metadata": {},
   "outputs": [
    {
     "name": "stdout",
     "output_type": "stream",
     "text": [
      "Mean Return: 0.17023166\n",
      "Return fraction: 0.1946564688650734\n",
      "\n",
      "\n",
      "discard 74.34475858441036%\n",
      "pass 21.80270038886425%\n",
      "riichi 1.4672662946497643%\n",
      "pon_noaka 0.7202240353175381%\n",
      "ron 0.4391484182405182%\n",
      "chi_high_noaka 0.3906693209831973%\n",
      "tsumo 0.29551619923877503%\n",
      "chi_low_noaka 0.27798120661378667%\n",
      "chi_mid_noaka 0.11397745206242459%\n",
      "kan 0.05131564018195134%\n",
      "chi_high_aka 0.037390793097401724%\n",
      "pon_aka 0.035069985249976794%\n",
      "chi_low_aka 0.018050727702193937%\n",
      "chi_mid_aka 0.005930953387863722%\n",
      "Value-Return Correlation 0.35946106778058423\n"
     ]
    }
   ],
   "source": [
    "perf_metrics(\"../training_data/ac_parallel_20250828_160927.npz\")"
   ]
  },
  {
   "cell_type": "code",
   "execution_count": 163,
   "id": "1d675594-c343-42a8-884c-ecb8ab6242cd",
   "metadata": {},
   "outputs": [
    {
     "name": "stdout",
     "output_type": "stream",
     "text": [
      "Mean Return: 0.16640237\n",
      "Return fraction: 0.19260311191118804\n",
      "\n",
      "\n",
      "discard 74.0608155477431%\n",
      "pass 22.82650286204408%\n",
      "riichi 1.523341901917531%\n",
      "ron 0.4278300081919431%\n",
      "pon_noaka 0.4160171748325017%\n",
      "tsumo 0.28068319264933606%\n",
      "chi_high_noaka 0.1535668336727383%\n",
      "chi_low_noaka 0.14483560901575987%\n",
      "chi_mid_noaka 0.07318820668349567%\n",
      "kan 0.03980411240681344%\n",
      "chi_high_aka 0.022341663092856574%\n",
      "pon_aka 0.01540804351231488%\n",
      "chi_low_aka 0.00898802538218368%\n",
      "chi_mid_aka 0.006676818855336447%\n",
      "Value-Return Correlation 0.36210705928687514\n"
     ]
    }
   ],
   "source": [
    "perf_metrics(\"../training_data/ac_parallel_20250828_164712.npz\")"
   ]
  },
  {
   "cell_type": "code",
   "execution_count": 165,
   "id": "ff3090b2-f8a6-45b7-9ec5-0665f42372d1",
   "metadata": {},
   "outputs": [
    {
     "name": "stdout",
     "output_type": "stream",
     "text": [
      "Mean Return: 0.16283648\n",
      "Return fraction: 0.18933959136042688\n",
      "\n",
      "\n",
      "discard 74.20877169082398%\n",
      "pass 22.762288361046352%\n",
      "riichi 1.496991366081733%\n",
      "pon_noaka 0.44184892827858846%\n",
      "ron 0.41460286289317233%\n",
      "tsumo 0.2732317689122394%\n",
      "chi_low_noaka 0.13520217351631036%\n",
      "chi_high_noaka 0.13391698175284733%\n",
      "chi_mid_noaka 0.06246031970430308%\n",
      "chi_high_aka 0.02236233668425666%\n",
      "kan 0.017478607983097156%\n",
      "chi_low_aka 0.015936377866941527%\n",
      "pon_aka 0.00925338069693379%\n",
      "chi_mid_aka 0.005654843759237316%\n",
      "Value-Return Correlation 0.3643792518811623\n"
     ]
    }
   ],
   "source": [
    "perf_metrics(\"../training_data/ac_parallel_20250828_174046.npz\")"
   ]
  },
  {
   "cell_type": "code",
   "execution_count": 166,
   "id": "5a4dafb9-7689-42ec-b9c1-7ada3d5f20bb",
   "metadata": {},
   "outputs": [
    {
     "name": "stdout",
     "output_type": "stream",
     "text": [
      "Mean Return: 0.122376665\n",
      "Return fraction: 0.1479834369578706\n",
      "\n",
      "\n",
      "discard 74.31690114092515%\n",
      "pass 21.933621202719987%\n",
      "riichi 1.4293854706157956%\n",
      "pon_noaka 0.7025363741120159%\n",
      "ron 0.4079978726367907%\n",
      "chi_high_noaka 0.38140583252079874%\n",
      "chi_low_noaka 0.2826353978042572%\n",
      "tsumo 0.2719985817578605%\n",
      "chi_mid_noaka 0.12156361195882033%\n",
      "kan 0.054197110331640735%\n",
      "chi_high_aka 0.037482113687302934%\n",
      "pon_aka 0.031150675564447707%\n",
      "chi_low_aka 0.02228666219245039%\n",
      "chi_mid_aka 0.006837953172683643%\n",
      "Value-Return Correlation 0.37866761152886436\n"
     ]
    }
   ],
   "source": [
    "perf_metrics('../training_data/ac_parallel_20250828_175507.npz')"
   ]
  },
  {
   "cell_type": "code",
   "execution_count": 181,
   "id": "8cb84d4b-b10a-427a-8c26-ceb06fc432bc",
   "metadata": {},
   "outputs": [
    {
     "name": "stdout",
     "output_type": "stream",
     "text": [
      "Mean Return: 0.1218145\n",
      "Return fraction: 0.1475355691707397\n",
      "\n",
      "\n",
      "discard 74.0901281949526%\n",
      "pass 23.211044173107993%\n",
      "riichi 1.4563069509981386%\n",
      "ron 0.42091572212393463%\n",
      "pon_noaka 0.2767700094987672%\n",
      "tsumo 0.2601279645242807%\n",
      "chi_high_noaka 0.08858688555649717%\n",
      "chi_mid_noaka 0.07706546980492962%\n",
      "chi_low_noaka 0.07220087204315666%\n",
      "chi_high_aka 0.016642044974486465%\n",
      "chi_low_aka 0.014337761824172955%\n",
      "kan 0.007424912373232423%\n",
      "chi_mid_aka 0.004864597761772967%\n",
      "pon_aka 0.0035844404560432387%\n",
      "Value-Return Correlation 0.3915873894115282\n"
     ]
    }
   ],
   "source": [
    "perf_metrics('../training_data/ac_parallel_20250828_203723.npz')"
   ]
  },
  {
   "cell_type": "code",
   "execution_count": 189,
   "id": "150829fa-4ab9-419d-835a-a8baae8dbe40",
   "metadata": {},
   "outputs": [
    {
     "name": "stdout",
     "output_type": "stream",
     "text": [
      "Mean Return: 0.12902048\n",
      "Return fraction: 0.14984930774936844\n",
      "\n",
      "\n",
      "discard 73.8002977533627%\n",
      "pass 23.570498555325585%\n",
      "riichi 1.6347904573678396%\n",
      "ron 0.43392105904750045%\n",
      "tsumo 0.2847850106599854%\n",
      "pon_noaka 0.15250781991627632%\n",
      "chi_mid_noaka 0.03683011977569939%\n",
      "chi_high_noaka 0.03501455049098181%\n",
      "chi_low_noaka 0.028271007433459387%\n",
      "chi_high_aka 0.01115278274897939%\n",
      "chi_low_aka 0.005446707854152725%\n",
      "kan 0.0031124044880872716%\n",
      "chi_mid_aka 0.0020749363253915144%\n",
      "pon_aka 0.0012968352033696966%\n",
      "Value-Return Correlation 0.3809980603049238\n"
     ]
    }
   ],
   "source": [
    "perf_metrics('../training_data/ac_parallel_20250828_214828.npz')"
   ]
  },
  {
   "cell_type": "code",
   "execution_count": 190,
   "id": "0f4babdc-6208-40b2-8447-69ae37f43bdf",
   "metadata": {},
   "outputs": [
    {
     "name": "stdout",
     "output_type": "stream",
     "text": [
      "Mean Return: 0.1268816\n",
      "Return fraction: 0.1476097505398841\n",
      "\n",
      "\n",
      "discard 73.65313806014593%\n",
      "pass 23.76422212670316%\n",
      "riichi 1.6429566487309488%\n",
      "ron 0.4357913380321807%\n",
      "tsumo 0.2840541282360679%\n",
      "pon_noaka 0.09347633572763948%\n",
      "chi_high_noaka 0.032885026696427185%\n",
      "chi_mid_noaka 0.029518842861359834%\n",
      "chi_low_noaka 0.028224156770949315%\n",
      "chi_low_aka 0.01294686090410519%\n",
      "chi_high_aka 0.011911112031776775%\n",
      "chi_mid_aka 0.006214493233970492%\n",
      "kan 0.003625121053149454%\n",
      "pon_aka 0.0010357488723284152%\n",
      "Value-Return Correlation 0.3871214361964352\n"
     ]
    }
   ],
   "source": [
    "perf_metrics('../training_data/ac_parallel_20250828_220705.npz')"
   ]
  },
  {
   "cell_type": "code",
   "execution_count": 60,
   "id": "f03b1205-8361-4042-b31f-befd0dd61887",
   "metadata": {},
   "outputs": [
    {
     "name": "stdout",
     "output_type": "stream",
     "text": [
      "Mean Return: 0.16047949\n",
      "Return fraction: 0.1500838595106551\n",
      "\n",
      "\n",
      "discard 74.52890686661405%\n",
      "pass 20.92911404893449%\n",
      "chi_low_noaka 0.5882498026835044%\n",
      "pon_noaka 0.9458859510655091%\n",
      "chi_high_noaka 0.6499112075769534%\n",
      "kan 0.12455603788476717%\n",
      "ron 0.3810674822415154%\n",
      "riichi 1.1900651144435674%\n",
      "tsumo 0.2244475138121547%\n",
      "chi_mid_noaka 0.26144435674822414%\n",
      "chi_high_aka 0.05056235201262825%\n",
      "pon_aka 0.06412786108918705%\n",
      "chi_low_aka 0.044396211523283345%\n",
      "chi_mid_aka 0.017265193370165743%\n",
      "Value-Return Correlation nan\n"
     ]
    }
   ],
   "source": [
    "perf_metrics(\"../training_data/gen0.npz\")"
   ]
  },
  {
   "cell_type": "code",
   "execution_count": null,
   "id": "11012d10-9d15-439b-9399-3c4de5303893",
   "metadata": {},
   "outputs": [],
   "source": []
  },
  {
   "cell_type": "code",
   "execution_count": null,
   "id": "14a99196-5654-4fe2-a0fb-97030810926e",
   "metadata": {},
   "outputs": [],
   "source": []
  }
 ],
 "metadata": {
  "kernelspec": {
   "display_name": "Python 3 (ipykernel)",
   "language": "python",
   "name": "python3"
  },
  "language_info": {
   "codemirror_mode": {
    "name": "ipython",
    "version": 3
   },
   "file_extension": ".py",
   "mimetype": "text/x-python",
   "name": "python",
   "nbconvert_exporter": "python",
   "pygments_lexer": "ipython3",
   "version": "3.12.10"
  }
 },
 "nbformat": 4,
 "nbformat_minor": 5
}
