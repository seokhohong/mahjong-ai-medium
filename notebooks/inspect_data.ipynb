{
 "cells": [
  {
   "cell_type": "code",
   "execution_count": 3,
   "id": "aa48f853-4818-48b2-ba47-b072913ed590",
   "metadata": {},
   "outputs": [],
   "source": [
    "import numpy as np"
   ]
  },
  {
   "cell_type": "code",
   "execution_count": 12,
   "id": "06808e27-4ab0-4e47-a88f-f984183dd4b1",
   "metadata": {},
   "outputs": [],
   "source": [
    "data_zip = np.load(\"../training_data/ac_20250818_002026.npz\")"
   ]
  },
  {
   "cell_type": "code",
   "execution_count": 13,
   "id": "9b6159dc-d130-4f1f-9538-7b3b77a30887",
   "metadata": {},
   "outputs": [
    {
     "data": {
      "text/plain": [
       "NpzFile '../training_data/ac_20250818_002026.npz' with keys: states, actions, returns, advantages, old_log_probs..."
      ]
     },
     "execution_count": 13,
     "metadata": {},
     "output_type": "execute_result"
    }
   ],
   "source": [
    "data_zip"
   ]
  },
  {
   "cell_type": "code",
   "execution_count": 14,
   "id": "683c936f-7e72-4b56-9b71-456851f85f63",
   "metadata": {},
   "outputs": [
    {
     "data": {
      "text/plain": [
       "np.float32(-4025.9287)"
      ]
     },
     "execution_count": 14,
     "metadata": {},
     "output_type": "execute_result"
    }
   ],
   "source": [
    "np.sum(data_zip[\"returns\"])"
   ]
  },
  {
   "cell_type": "code",
   "execution_count": 15,
   "id": "6708929f-4dd9-43e9-9d82-09767a990be7",
   "metadata": {},
   "outputs": [
    {
     "data": {
      "text/plain": [
       "array([0., 0., 0., ..., 0., 0., 0.], shape=(7808,), dtype=float32)"
      ]
     },
     "execution_count": 15,
     "metadata": {},
     "output_type": "execute_result"
    }
   ],
   "source": [
    "data_zip[\"returns\"]"
   ]
  },
  {
   "cell_type": "code",
   "execution_count": null,
   "id": "9a1d9c88-fb3f-443c-a9c9-01be9a9a99b8",
   "metadata": {},
   "outputs": [],
   "source": []
  }
 ],
 "metadata": {
  "kernelspec": {
   "display_name": "Python 3 (ipykernel)",
   "language": "python",
   "name": "python3"
  },
  "language_info": {
   "codemirror_mode": {
    "name": "ipython",
    "version": 3
   },
   "file_extension": ".py",
   "mimetype": "text/x-python",
   "name": "python",
   "nbconvert_exporter": "python",
   "pygments_lexer": "ipython3",
   "version": "3.12.10"
  }
 },
 "nbformat": 4,
 "nbformat_minor": 5
}
